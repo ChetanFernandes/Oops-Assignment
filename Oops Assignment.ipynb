{
 "cells": [
  {
   "cell_type": "code",
   "execution_count": null,
   "id": "c7f336d4-491b-44ef-bf7d-656c4285be6b",
   "metadata": {},
   "outputs": [],
   "source": [
    "# 1. What is a constructor in Python? Explain its purpose and usage.\n",
    "'''\n",
    "Constructors are generally used for instantiating an object. \n",
    "The task of constructors is to initialize(assign values) to the data members of the class when an object of the class is created. \n",
    "In Python, the __init__() method is called the constructor and is always called when an object is created\n",
    "\n",
    "Syntax of constructor declaration : \n",
    "\n",
    "def __init__(self):\n",
    "    # body of the constructor\n",
    "    \n",
    "Advantages of using constructors in Python:\n",
    "1. Initialization of objects: Constructors are used to initialize the objects of a class. They allow you to set default values for attributes or properties, and also allow you to initialize the object with custom data.\n",
    "2. Easy to implement: Constructors are easy to implement in Python, and can be defined using the __init__() method.\n",
    "3. Better readability: Constructors improve the readability of the code by making it clear what values are being initialized and how they are being initialized.\n",
    "4. Encapsulation: Constructors can be used to enforce encapsulation, by ensuring that the object’s attributes are initialized correctly and in a controlled manner.\n",
    "\n",
    "Disadvantages of using constructors in Python:\n",
    "1. Overloading not supported: Unlike other object-oriented languages, Python does not support method overloading. This means that you cannot have multiple constructors with different parameters in a single class.\n",
    "2. Limited functionality: Constructors in Python are limited in their functionality compared to constructors in other programming languages. For example, Python does not have constructors with access modifiers like public, private or protected.\n",
    "3. Constructors may be unnecessary: In some cases, constructors may not be necessary, as the default values of attributes may be sufficient. In these cases, using a constructor may add unnecessary complexity to the code."
   ]
  },
  {
   "cell_type": "code",
   "execution_count": null,
   "id": "5da3e714-dd09-4f87-b8cc-6e04f35dbeec",
   "metadata": {},
   "outputs": [],
   "source": [
    "#2.Differentiate between a parameterless constructor and a parameterized constructor in Python.\n",
    "'''\n",
    "Non-Parameterized Constructor:- \n",
    "a. A non-parameterized constructor is a constructor that does not take any arguments.\n",
    "b. It is special method in Python that is called when you create an instance of a class. \n",
    "c. The non-parameterized constructor is used to initialize the default values for the instance variables of the object.\n",
    "Parameterized constructor: \n",
    "a. Constructor with parameters is known as parameterized constructor. \n",
    "b. The parameterized constructor takes its first argument as a reference to the instance being constructed known as self and the rest of the arguments are provided by the programmer."
   ]
  },
  {
   "cell_type": "code",
   "execution_count": 28,
   "id": "197f6aef-0c14-48bc-936c-346b445ad0f1",
   "metadata": {},
   "outputs": [
    {
     "name": "stdout",
     "output_type": "stream",
     "text": [
      "Default constructor called\n"
     ]
    }
   ],
   "source": [
    "# 3. How do you define a constructor in a Python class? Provide an example.\n",
    "class MyClass:\n",
    "    def __init__(self, name = None):\n",
    "        if name is None:\n",
    "            print(\"Default constructor called\")\n",
    "        else:\n",
    "            self.name = name\n",
    "            print(\"Parameterized constructor called\",self.name)\n",
    "            \n",
    "    def method(self):\n",
    "        if hasattr(self,name):\n",
    "            print(\"Method called with name\", self.name)\n",
    "        else:\n",
    "            print(\"Method called without a name\")\n",
    "obj1 = MyClass()"
   ]
  },
  {
   "cell_type": "code",
   "execution_count": 34,
   "id": "ca8ca9f1-db7f-4317-aa8c-2648a7658999",
   "metadata": {},
   "outputs": [
    {
     "name": "stdout",
     "output_type": "stream",
     "text": [
      "B init is called\n",
      "A init called\n"
     ]
    }
   ],
   "source": [
    "# 4. Explain the `__init__` method in Python and its role in constructors.\n",
    "'''\n",
    "1. __init__ method in Python is used to initialize objects of a class. It is also called a constructor. \n",
    "2. It is a default constructor,\n",
    "3. The task of constructors is to initialize(assign values) to the data members of the class when an object of the class is created.\n",
    "4. Like methods, a constructor also contains a collection of statements(i.e. instructions) that are executed at the time of Object creation. \n",
    "5. It is run as soon as an object of a class is instantiated.\n",
    "6. __init__ Method with Inheritance. Refer below example:-\n",
    "'''\n",
    "\n",
    "class A:\n",
    "    def __init__(self,something):\n",
    "        print(\"A init called\")\n",
    "        self.something = something\n",
    "class B(A):\n",
    "    def __init__(self,something):\n",
    "        # Calling init of parent class\n",
    "        A.__init__(self,something)\n",
    "        print(\"B init is called\")\n",
    "        self.something = something\n",
    "obj = B(\"Something\")\n",
    "\n",
    "\n",
    "class A:\n",
    "    def __init__(self,something):\n",
    "        print(\"A init called\")\n",
    "        self.something = something\n",
    "class B(A):\n",
    "    def __init__(self,something):\n",
    "        print(\"B init is called\")\n",
    "        # Calling init of parent class\n",
    "        A.__init__(self,something)\n",
    "        self.something = something\n",
    "obj = B(\"Something\")\n",
    "'''\n",
    "In above examples,\n",
    "a. So, the parent class constructor is called first. \n",
    "b. But in Python, it is not compulsory that the parent class constructor will always be called first.\n",
    "c. The order in which the __init__ method is called for a parent or a child class can be modified. \n",
    "d. This can simply be done by calling the parent class constructor after the body of the child class constructor. \n",
    "'''"
   ]
  },
  {
   "cell_type": "code",
   "execution_count": 43,
   "id": "7c626f95-602b-409b-ad35-6477ee5277ab",
   "metadata": {},
   "outputs": [
    {
     "name": "stdout",
     "output_type": "stream",
     "text": [
      "Tom:56\n"
     ]
    }
   ],
   "source": [
    "# 5. In a class named `Person`, create a constructor that initializes the `name` and `age` attributes. Provide an\n",
    "# example of creating an object of this class.\n",
    "class Person:\n",
    "    def __init__(self,name,age):\n",
    "        self.name = name\n",
    "        self.age = age\n",
    "    def print_name_age(self):\n",
    "        print(f\"{self.name}:{self.age}\")\n",
    "Person1 = Person(\"Tom\",56) #Object of class\n",
    "Person1.print_name_age()"
   ]
  },
  {
   "cell_type": "code",
   "execution_count": 90,
   "id": "555854c4-d791-4ff2-abd3-079785431c10",
   "metadata": {},
   "outputs": [
    {
     "name": "stdout",
     "output_type": "stream",
     "text": [
      "B init called\n",
      "A init called\n"
     ]
    }
   ],
   "source": [
    "# 6. How can you call a constructor explicitly in Python? Give an example.\n",
    "\n",
    "class A:\n",
    "    def __init__(self,something):\n",
    "        self.something = something\n",
    "        print(\"A init called\")\n",
    "        \n",
    "class B(A):\n",
    "    def __init__(self, something):\n",
    "        self.something = something\n",
    "        print(\"B init called\")\n",
    "        super().__init__(something)\n",
    "    \n",
    "        \n",
    "obj = B(\"tes1t\")"
   ]
  },
  {
   "cell_type": "code",
   "execution_count": 92,
   "id": "b08b1552-42e7-4199-8f93-04e8e86dbcd3",
   "metadata": {},
   "outputs": [
    {
     "data": {
      "text/plain": [
       "'\\n1. Self represents the instance of the class. \\n2. By using the “self”  we can access the attributes and methods of the class in Python. \\n3. It binds the attributes with the given arguments\\n4. Whenever you call a method of an object created from a class, the object is automatically passed as the first argument using the “self” parameter. \\n5. This enables you to modify the object’s properties and execute tasks unique to that particular instance.\\n6. self parameter in the constructor refers to the instance being created and allows you to access and set its attributes\\n7. The self is always pointing to the Current Object. When you create an instance of a class, you’re essentially creating an object with its own set of attributes and methods.\\nclass check:\\n\\tdef __init__(self):\\n\\t\\tprint(\"Address of self = \",id(self))\\n\\nobj = check()\\nprint(\"Address of class object = \",id(obj))\\n'"
      ]
     },
     "execution_count": 92,
     "metadata": {},
     "output_type": "execute_result"
    }
   ],
   "source": [
    "# 7. What is the significance of the `self` parameter in Python constructors? Explain with an example.\n",
    "'''\n",
    "1. Self represents the instance of the class. \n",
    "2. By using the “self”  we can access the attributes and methods of the class in Python. \n",
    "3. It binds the attributes with the given arguments\n",
    "4. Whenever you call a method of an object created from a class, the object is automatically passed as the first argument using the “self” parameter. \n",
    "5. This enables you to modify the object’s properties and execute tasks unique to that particular instance.\n",
    "6. self parameter in the constructor refers to the instance being created and allows you to access and set its attributes\n",
    "7. The self is always pointing to the Current Object. When you create an instance of a class, you’re essentially creating an object with its own set of attributes and methods.\n",
    "class check:\n",
    "\tdef __init__(self):\n",
    "\t\tprint(\"Address of self = \",id(self))\n",
    "\n",
    "obj = check()\n",
    "print(\"Address of class object = \",id(obj))\n",
    "'''"
   ]
  },
  {
   "cell_type": "code",
   "execution_count": null,
   "id": "2286ea21-b605-4951-acd5-b66747e804ad",
   "metadata": {},
   "outputs": [],
   "source": [
    "# 8. Discuss the concept of default constructors in Python. When are they used?\n",
    "\n",
    "'''\n",
    "Default constructors are useful when you want to create an object with a predefined set of attributes, \n",
    "but you don’t want to specify the values of those attributes when the object is created.\n",
    "\n",
    "class Person:\n",
    "    def __init__(self):\n",
    "        self.name = \"John\"\n",
    "        self.age = 30\n",
    "\n",
    "person = Person()\n",
    "print(person.name)\n",
    "print(person.age)\n",
    "\n",
    "In this example, the __init__ method is the default constructor for the Person class. \n",
    "It is called automatically when the object is created, and it sets the default values for the name and age attributes."
   ]
  },
  {
   "cell_type": "code",
   "execution_count": 100,
   "id": "5e9c49a3-927d-45f0-b50b-b199eb13e6fb",
   "metadata": {},
   "outputs": [
    {
     "name": "stdout",
     "output_type": "stream",
     "text": [
      "Area of rectangle is -> 200\n"
     ]
    }
   ],
   "source": [
    "# 9 Create a Python class called `Rectangle` with a constructor that initializes the `width` and `height`\n",
    "# attributes. Provide a method to calculate the area of the rectangle.\n",
    "\n",
    "class Rectangle:\n",
    "    def __init__(self,width,height): #Parametrized constructor\n",
    "        self.width1 = width\n",
    "        self.height1 = height\n",
    "        \n",
    "    def calculate_area(self):\n",
    "        return self.width1 * self.height1\n",
    "    \n",
    "Area = Rectangle(10,20)\n",
    "print(\"Area of rectangle is ->\",Area.calculate_area())"
   ]
  },
  {
   "cell_type": "code",
   "execution_count": 114,
   "id": "200f23f5-de7a-419e-902b-24f0ffb303f2",
   "metadata": {},
   "outputs": [
    {
     "name": "stdout",
     "output_type": "stream",
     "text": [
      "Three\n"
     ]
    }
   ],
   "source": [
    "# 10 How can you have multiple constructors in a Python class? Explain with an example.\n",
    "'''\n",
    "Python does not support explicit multiple constructors, yet there are some ways using which multiple constructors can be achieved. \n",
    "If multiple __init__ methods are written for the same class, then the latest one overwrites all the previous constructors and the reason for this can be, python stores all the function names in a class as key in a dictionary.\n",
    "so, when a new function is defined with the same name, the key remains the same but the value gets overridden by the new function body.\n",
    "'''\n",
    "# Ex:\n",
    "class example:\n",
    "    def __init__(self):\n",
    "        print(\"One\")\n",
    "    def __init__(self):\n",
    "        print(\"Two\")\n",
    "    def __init__(self):\n",
    "        print(\"Three\")\n",
    "\n",
    "e = example()"
   ]
  },
  {
   "cell_type": "code",
   "execution_count": 27,
   "id": "06e13b40-f30b-4c8c-a479-1a9dd9939a37",
   "metadata": {},
   "outputs": [
    {
     "name": "stdout",
     "output_type": "stream",
     "text": [
      "Square of int : 15\n",
      "Square of int : 25\n",
      "Square of int : Hello! World\n"
     ]
    }
   ],
   "source": [
    "# 11. What is method overloading, and how is it related to constructors in Python?\n",
    "'''\n",
    "Two or more methods have the same name but different numbers of parameters or different types of parameters, or both. \n",
    "These methods are called overloaded methods and this is called method overloading.\n",
    "Multiple constructors are required when one has to perform different actions on the instantiation of a class.\n",
    "This is useful when the class has to perform different actions on different parameters. \n",
    "The class constructors can be made to exhibit polymorphism using Overloading constructors based on arguments.\n",
    "'''\n",
    "class sample:\n",
    "    def __init__(self,*args):\n",
    "        if len(args) > 1:\n",
    "            self.ans = 0\n",
    "            for i in args:\n",
    "                self.ans+=i\n",
    "        elif isinstance(args[0],int):\n",
    "            self.ans = args[0]*args[0]    \n",
    "    \n",
    "        elif isinstance(args[0], str):\n",
    "            self.ans = \"Hello! \"+ args[0]\n",
    "    \n",
    "s1 = sample(1,2,3,4,5)\n",
    "print(\"Square of int :\", s1.ans)\n",
    "\n",
    "s2 = sample(5)\n",
    "print(\"Square of int :\", s2.ans)\n",
    "\n",
    "s3 = sample(\"World\")\n",
    "print(\"Square of int :\", s3.ans)"
   ]
  },
  {
   "cell_type": "code",
   "execution_count": 48,
   "id": "e060e03d-7439-4632-a6c9-bcbd4b1017b4",
   "metadata": {},
   "outputs": [
    {
     "name": "stdout",
     "output_type": "stream",
     "text": [
      "Freelance class init is intialized\n",
      "103\n",
      "Suraj kr gupta\n",
      "Noida\n",
      "KKK@gmails\n"
     ]
    }
   ],
   "source": [
    "# 12 Explain the use of the `super()` function in Python constructors. Provide an example.\n",
    "\n",
    "'''\n",
    "In Python, the super() function is used to refer to the parent class or superclass. \n",
    "It allows you to call methods defined in the superclass from the subclass, \n",
    "enabling you to extend and customize the functionality inherited from the parent class.\n",
    "'''\n",
    "class Emp():\n",
    "    def __init__(self, id, name, Add):\n",
    "        self.id = id\n",
    "        self.name = name\n",
    "        self.Add = Add\n",
    "        print(self.id)\n",
    "        print(self.name)\n",
    "        print(self.Add)\n",
    "\n",
    "# Class freelancer inherits EMP\n",
    "class Freelance(Emp):\n",
    "    def __init__(self, id, name, Add, Emails):\n",
    "        print(\"Freelance class init is intialized\")\n",
    "        super().__init__(id, name, Add)\n",
    "        self.Emails = Emails\n",
    "        print(self.Emails)\n",
    "\n",
    "Emp_1 = Freelance(103, \"Suraj kr gupta\", \"Noida\" , \"KKK@gmails\")"
   ]
  },
  {
   "cell_type": "code",
   "execution_count": 53,
   "id": "65223e86-4288-4df6-9cfd-41f89f86d686",
   "metadata": {},
   "outputs": [
    {
     "name": "stdout",
     "output_type": "stream",
     "text": [
      "Title -> {'DSA'}\n",
      "Author -> {'XYZ'}\n",
      "Published Year -> {2023}\n"
     ]
    }
   ],
   "source": [
    "# 13 Create a class called `Book` with a constructor that initializes the `title`, `author`, and `published_year`\n",
    "# attributes. Provide a method to display book details.\n",
    "class Book:\n",
    "    def __init__(self):\n",
    "        self.title = \"DSA\"\n",
    "        self.author = \"XYZ\"\n",
    "        self.year = 2023\n",
    "        \n",
    "    def book_details(self):\n",
    "        print(\"Title ->\",{self.title})\n",
    "        print(\"Author ->\",{self.author})\n",
    "        print(\"Published Year ->\",{self.year})\n",
    "\n",
    "book1 = Book()\n",
    "book1.book_details()"
   ]
  },
  {
   "cell_type": "code",
   "execution_count": null,
   "id": "82ac3a7a-e469-4736-a101-1e58dd2f224c",
   "metadata": {},
   "outputs": [],
   "source": [
    "# 14 Discuss the differences between constructors and regular methods in Python classes.\n",
    "'''\n",
    "1.Constructor is a block of code that initializes a newly created object.\tA Method is a collection of statements which returns a value upon its execution.\n",
    "2.A Constructor can be used to initialize an object.\tA Method consists of code to be executed.\n",
    "3.A Constructor is invoked implicitly by the system.\tA Method is invoked by the programmer.\n",
    "4.A Constructor doesn’t have a return type.\tA Method must have a return type.\n",
    "5.A Constructor initializes a object that doesn’t exist.\tA Method does operations on an already created object.\n",
    "7. A class can have many Constructors but must not have the same parameters.\tA class can have many methods but must not have the same parameters.\n",
    "6. A Constructor cannot be inherited by subclasses.\tA Method can be inherited by subclasses.\n"
   ]
  },
  {
   "cell_type": "code",
   "execution_count": null,
   "id": "a1eda544-cbc2-4e31-8ecf-294082cd16df",
   "metadata": {},
   "outputs": [],
   "source": [
    "#15 Explain the role of the `self` parameter in instance variable initialization within a constructor\n",
    "'''\n",
    "In the constructor, “self” is used to initialize instance variables (arg1 and arg2) with the values passed as arguments. \n",
    "In the my_method, “self” is used to access and print the values of arg1 and arg2.\n",
    "...\n",
    "class MyClass:\n",
    "    def __init__(self, arg1, arg2):\n",
    "        self.arg1 = arg1\n",
    "        self.arg2 = arg2\n",
    "\n",
    "    def my_method(self):\n",
    "        # accessing instance members using self\n",
    "        print(self.arg1, self.arg2)"
   ]
  },
  {
   "cell_type": "code",
   "execution_count": 58,
   "id": "7997829d-c08d-419e-843e-04fa70f3efc7",
   "metadata": {},
   "outputs": [
    {
     "data": {
      "text/plain": [
       "True"
      ]
     },
     "execution_count": 58,
     "metadata": {},
     "output_type": "execute_result"
    }
   ],
   "source": [
    "# 16. How do you prevent a class from having multiple instances by using constructors in Python? Provide an example.\n",
    ">>> class Singleton(object):\n",
    "...     _instance = None\n",
    "...     def __new__(cls, *args, **kwargs):\n",
    "...         if cls._instance is None:\n",
    "...             cls._instance = super().__new__(cls)\n",
    "...         return cls._instance\n",
    "...\n",
    "\n",
    ">>> first = Singleton()\n",
    ">>> second = Singleton()\n",
    ">>> first is second"
   ]
  },
  {
   "cell_type": "code",
   "execution_count": 64,
   "id": "1d5d44c9-deb6-4ff4-96f5-a8cf63ec80e5",
   "metadata": {},
   "outputs": [
    {
     "name": "stdout",
     "output_type": "stream",
     "text": [
      "List of subjects -> ('DSA', 'Python', 'SQL')\n"
     ]
    }
   ],
   "source": [
    "# 17. Create a Python class called `Student` with a constructor that takes a list of subjects as a parameter and\n",
    "# initializes the `subjects` attribute.\n",
    "class Student:\n",
    "    def __init__(self,*args):\n",
    "        self.subjects = args\n",
    "        \n",
    "    def print_subjects(self):\n",
    "        print(\"List of subjects ->\",self.subjects)\n",
    "        \n",
    "student = Student(\"DSA\",\"Python\",\"SQL\")\n",
    "student.print_subjects()"
   ]
  },
  {
   "cell_type": "code",
   "execution_count": 74,
   "id": "b7066eb9-f3ca-4326-9594-6f3482eb41d5",
   "metadata": {},
   "outputs": [
    {
     "name": "stdout",
     "output_type": "stream",
     "text": [
      "Stud1 object is initialized.\n",
      "Destructor called, stud1 object is deleted.\n"
     ]
    }
   ],
   "source": [
    "# 18 What is the purpose of the `__del__` method in Python classes, and how does it relate to constructors?\n",
    "'''\n",
    "In Python, the __del__() method is referred to as a destructor method. \n",
    "It is called after an object’s garbage collection occurs, which happens after all references to the item have been destroyed.\n",
    "Using constructors and destructor helps in control the behavior of objects in our programs and ensure that they are properly initialized and cleaned up\n",
    "'''\n",
    "class Student:\n",
    "       # Initializing\n",
    "    def __init__(self):\n",
    "             print('Stud1 object is initialized.')\n",
    "\n",
    "       # Deleting (Calling destructor)\n",
    "    def __del__(self):\n",
    "             print('Destructor called, stud1 object is deleted.')\n",
    "\n",
    "Stud1 = Student()\n",
    "del Stud1"
   ]
  },
  {
   "cell_type": "code",
   "execution_count": 77,
   "id": "cbed69b6-1470-43fe-81e8-8e9c63b49449",
   "metadata": {},
   "outputs": [
    {
     "name": "stdout",
     "output_type": "stream",
     "text": [
      "Inside Vehicle Constructor\n",
      "Inside car Constructor\n",
      "Inside elextirc_car Constructor\n",
      "Engine=123cc, Max Speed=1000, Km range=500\n"
     ]
    }
   ],
   "source": [
    "# 19 Explain the use of constructor chaining in Python. Provide a practical example.\n",
    "'''\n",
    "Constructor chaining is the process of calling one constructor from another constructor. \n",
    "Constructor chaining is useful when you want to invoke multiple constructors, one after another, by initializing only one instance.\n",
    "'''\n",
    "class vehicle:\n",
    "    def __init__(self,engine):\n",
    "        print(\"Inside Vehicle Constructor\")\n",
    "        self.engine = engine\n",
    "class car(vehicle):\n",
    "    def __init__(self,engine,max_speed):\n",
    "        super().__init__(engine)\n",
    "        print(\"Inside car Constructor\")\n",
    "        self.max_speed = max_speed\n",
    "class Electric_car(car):\n",
    "    def __init__(self,engine,max_speed,min_speed):\n",
    "        super().__init__(engine,max_speed)\n",
    "        print(\"Inside elextirc_car Constructor\")\n",
    "        self.min_speed = min_speed\n",
    "        \n",
    "ev = Electric_car('123cc',1000,500)\n",
    "print(f'Engine={ev.engine}, Max Speed={ev.max_speed}, Km range={ev.min_speed}')"
   ]
  },
  {
   "cell_type": "code",
   "execution_count": 98,
   "id": "a0a09c35-f3b8-45a4-a730-3af1ebf725bd",
   "metadata": {},
   "outputs": [
    {
     "name": "stdout",
     "output_type": "stream",
     "text": [
      "Make -> India, Model -> 2003\n"
     ]
    }
   ],
   "source": [
    "# 20. Create a Python class called `Car` with a default constructor that initializes the `make` and `model`\n",
    "# attributes. Provide a method to display car information.\n",
    "class Car:\n",
    "    def __init__(self):\n",
    "        self.make = \"India\"\n",
    "        self.model = 2003\n",
    "car1 = Car()\n",
    "print(f\"Make -> {car1.make}, Model -> {car1.model}\")"
   ]
  },
  {
   "cell_type": "code",
   "execution_count": null,
   "id": "c84dcc6c-cb88-4ec0-9c76-57cfbd46df7e",
   "metadata": {},
   "outputs": [],
   "source": [
    "#Inheristance\n",
    "# 1. What is inheritance in Python? Explain its significance in object-oriented programming.\n",
    "'''\n",
    "Inheritance allows you to inherit the properties of a class, i.e., base class to another, i.e., derived class.\n",
    "The benefits of Inheritance in Python are as follows:\n",
    "a. It represents real-world relationships well.\n",
    "b. It provides the reusability of a code. We don’t have to write the same code again and again. Also, it allows us to add more features to a class without modifying it.\n",
    "c. It is transitive in nature, which means that if class B inherits from another class A, then all the subclasses of B would automatically inherit from class A.\n",
    "d. Inheritance offers a simple, understandable model structure. \n",
    "e. Less development and maintenance expenses result from an inheritance. \n",
    "'''\n",
    "class BaseClass:\n",
    "    {Body}\n",
    "class DerivedClass(BaseClass):\n",
    "    {Body}"
   ]
  },
  {
   "cell_type": "code",
   "execution_count": 116,
   "id": "dd372a7b-40d1-42ff-860c-b4a15753c4bd",
   "metadata": {},
   "outputs": [
    {
     "name": "stdout",
     "output_type": "stream",
     "text": [
      "This is motehr class\n",
      "This is father class\n",
      "This is derive class inherting the property of mother and father class\n"
     ]
    }
   ],
   "source": [
    "# 2. Differentiate between single inheritance and multiple inheritance in Python. Provide examples for each.\n",
    "'''\n",
    "Single Inheritance:- Single inheritance enables a derived class to inherit properties from a single parent class, thus enabling code reusability and the addition of new features to existing code.\n",
    "'''\n",
    "# Example of single_inheritance\n",
    "'''\n",
    "class parent:\n",
    "    def func1(self):\n",
    "        print(\"This is parent class\")\n",
    "\n",
    "class child(parent):\n",
    "    def func2(self):\n",
    "        print(\"This is child class\")\n",
    "\n",
    "object = child()\n",
    "object.func1()\n",
    "object.func2()\n",
    "\n",
    "'''\n",
    "'''\n",
    "Multiple Inheritance:- When a class can be derived from more than one base class this type of inheritance is called multiple inheritances. \n",
    "In multiple inheritances, all the features of the base classes are inherited into the derived class. \n",
    "'''\n",
    "class mother:\n",
    "    def func4(self):\n",
    "        print(\"This is motehr class\")  \n",
    "    \n",
    "class father:\n",
    "    def func5(self):\n",
    "        print(\"This is father class\")  \n",
    "    \n",
    "class son(mother,father):\n",
    "    def func6(self):\n",
    "        print(\"This is derive class inherting the property of mother and father class\")\n",
    "        \n",
    "obj = son()\n",
    "obj.func4()\n",
    "obj.func5()\n",
    "obj.func6()"
   ]
  },
  {
   "cell_type": "code",
   "execution_count": 109,
   "id": "47612538-6a6d-4f28-9457-c59388fbcbc6",
   "metadata": {},
   "outputs": [
    {
     "name": "stdout",
     "output_type": "stream",
     "text": [
      "pink 100 pulsar\n"
     ]
    }
   ],
   "source": [
    "# 3.Create a Python class called `Vehicle` with attributes `color` and `speed`. Then, create a child class called\n",
    "# `Car` that inherits from `Vehicle` and adds a `brand` attribute. Provide an example of creating a `Car` object.\n",
    "class Vehicle:\n",
    "    def __init__(self,color,speed):\n",
    "        self.color = color\n",
    "        self.speed = speed\n",
    "class car(Vehicle):\n",
    "    def __init__(self,color,speed,brand):\n",
    "        super().__init__(color,speed)\n",
    "        self.brand = brand\n",
    "        \n",
    "    def print_all(self):\n",
    "        print(self.color,self.speed,self.brand)\n",
    "        \n",
    "car1 = car(\"pink\", 100, \"pulsar\")\n",
    "car1.print_all()"
   ]
  },
  {
   "cell_type": "code",
   "execution_count": 113,
   "id": "b62a3d6a-2a5c-4af6-872d-f3caf55cfca1",
   "metadata": {},
   "outputs": [
    {
     "name": "stdout",
     "output_type": "stream",
     "text": [
      "This is child class\n"
     ]
    }
   ],
   "source": [
    "# 4. Explain the concept of method overriding in inheritance. Provide a practical example.\n",
    "'''\n",
    "Overriding an inherited method means providing a public method in a subclass with the same method signature (method name, parameter type list and return type) as a public method in the superclass. \n",
    "The method in the subclass will be called instead of the method in the superclass.\n",
    "'''\n",
    "class parent:\n",
    "    def print_all(self):\n",
    "        print(\"This is parnet class\")\n",
    "        \n",
    "class child(parent):\n",
    "    def print_all(self):\n",
    "        print(\"This is child class\")\n",
    "child1 = child()\n",
    "child1.print_all()"
   ]
  },
  {
   "cell_type": "code",
   "execution_count": 117,
   "id": "16400989-67d4-4c7a-9c23-c1846aabe391",
   "metadata": {},
   "outputs": [
    {
     "name": "stdout",
     "output_type": "stream",
     "text": [
      "This is motehr class\n",
      "This is father class\n",
      "This is derive class inherting the property of mother and father class\n"
     ]
    }
   ],
   "source": [
    "# 5. How can you access the methods and attributes of a parent class from a child class in Python? Give an example.\n",
    "'''\n",
    "we can achieve this through inheritance. \n",
    "'''\n",
    "class mother:\n",
    "    def func4(self):\n",
    "        print(\"This is motehr class\")  \n",
    "    \n",
    "class father:\n",
    "    def func5(self):\n",
    "        print(\"This is father class\")  \n",
    "    \n",
    "class son(mother,father):\n",
    "    def func6(self):\n",
    "        print(\"This is derive class inherting the property of mother and father class\")\n",
    "obj = son()\n",
    "obj.func4()\n",
    "obj.func5()\n",
    "obj.func6()"
   ]
  },
  {
   "cell_type": "code",
   "execution_count": 132,
   "id": "2926b5a5-7123-40d2-86fa-df754a60f8d3",
   "metadata": {},
   "outputs": [
    {
     "name": "stdout",
     "output_type": "stream",
     "text": [
      "Mayank 103\n"
     ]
    }
   ],
   "source": [
    "# 6. Discuss the use of the `super()` function in Python inheritance. When and why is it used? Provide an example.\n",
    "# code\n",
    "# In Python, the super() function is used to refer to the parent class or superclass. \n",
    "# It allows you to call methods defined in the superclass from the subclass, enabling you to extend and customize the functionality inherited from the parent class.\n",
    "\n",
    "class Person:\n",
    "    def __init__(self, name, id):\n",
    "        self.name = name\n",
    "        self.id = id\n",
    "    \n",
    "    def Display(self):\n",
    "        print(self.name, self.id)\n",
    "\n",
    "class Emp(Person):\n",
    "    def __init__(self, name, id):\n",
    "        super().__init__(name, id)\n",
    "    def Print(self):\n",
    "        print(\"Emp class called\")\n",
    "\n",
    "Emp_details = Emp(\"Mayank\", 103)\n",
    "\n",
    "# calling parent class function\n",
    "print(Emp_details.name, Emp_details.id)"
   ]
  },
  {
   "cell_type": "code",
   "execution_count": 31,
   "id": "9f473983-8652-4c29-9c52-d71a0df00710",
   "metadata": {},
   "outputs": [
    {
     "name": "stdout",
     "output_type": "stream",
     "text": [
      "This is method from class Cat\n",
      "This is method from class Dog\n"
     ]
    }
   ],
   "source": [
    "# 7. Create a Python class called `Animal` with a method `speak()`. \n",
    "# Then, create child classes `Dog` and `Cat` that inherit from `Animal` and override the `speak()` method. \n",
    "# Provide an example of using these classes.\n",
    "\n",
    "class Animal:\n",
    "    def speak(self):\n",
    "        print(\"This is method from class Animal\")\n",
    "class Dog(Animal):\n",
    "    def speak(self):\n",
    "        print(\"This is method from class Dog\")\n",
    "class Cat(Animal):\n",
    "    def speak(self):\n",
    "        print(\"This is method from class Cat\")\n",
    "        \n",
    "\n",
    "Dog1 = Dog()\n",
    "Cat1 = Cat()\n",
    "Cat1.speak()\n",
    "Dog1.speak()"
   ]
  },
  {
   "cell_type": "code",
   "execution_count": 38,
   "id": "f1f45b07-20cd-4e4e-85b6-1bc124cb3c55",
   "metadata": {},
   "outputs": [
    {
     "name": "stdout",
     "output_type": "stream",
     "text": [
      "True\n",
      "True\n",
      "False\n"
     ]
    }
   ],
   "source": [
    "# 8 .Explain the role of the `isinstance()` function in Python and how it relates to inheritance.\n",
    "'''\n",
    "Python isinstance() function returns True if the object is of specified types, and if it does not match then returns False\n",
    "'''\n",
    "class Animal:\n",
    "    def speak(self):\n",
    "        print(\"This is method from class Animal\")\n",
    "class Dog(Animal):\n",
    "    def speak(self):\n",
    "        print(\"This is method from class Dog\")\n",
    "class Cat(Animal):\n",
    "    def speak(self):\n",
    "        print(\"This is method from class Cat\")\n",
    "        \n",
    "Dog1 = Dog()\n",
    "Cat1 = Cat()\n",
    "print(isinstance(Dog1,Animal))\n",
    "print(isinstance(Cat1,Animal))\n",
    "print(isinstance(Dog1,Cat))"
   ]
  },
  {
   "cell_type": "code",
   "execution_count": 50,
   "id": "9bcf00f6-961d-4a69-8b93-d62cfb6164cd",
   "metadata": {},
   "outputs": [
    {
     "name": "stdout",
     "output_type": "stream",
     "text": [
      "False\n",
      "True\n",
      "True\n",
      "False\n",
      "False\n",
      "False\n"
     ]
    }
   ],
   "source": [
    "# 9. What is the purpose of the `issubclass()` function in Python? Provide an example.\n",
    "'''\n",
    "Python issubclass() is a built-in function used to check if a class is a subclass of another class or not. \n",
    "This function returns True if the given class is the subclass of the given class else it returns False. \n",
    "We can determine class inheritance in Python by using issubclass()\n",
    "'''\n",
    "class Animal:\n",
    "    def speak(self):\n",
    "        print(\"This is method from class Animal\")\n",
    "class Dog(Animal):\n",
    "    def speak(self):\n",
    "        print(\"This is method from class Dog\")\n",
    "class Cat(Animal):\n",
    "    def speak(self):\n",
    "        print(\"This is method from class Cat\")\n",
    "print(issubclass(Animal,Cat))\n",
    "print(issubclass(Cat,Animal))\n",
    "print(issubclass(Dog,Animal))\n",
    "print(issubclass(Animal,Dog))\n",
    "print(issubclass(Dog,Cat))\n",
    "print(issubclass(Cat,Dog))"
   ]
  },
  {
   "cell_type": "code",
   "execution_count": 80,
   "id": "65c137de-6be1-4d78-a1dc-bb8e371d2dc6",
   "metadata": {},
   "outputs": [
    {
     "data": {
      "text/plain": [
       "'Chetanfern@gmail'"
      ]
     },
     "execution_count": 80,
     "metadata": {},
     "output_type": "execute_result"
    }
   ],
   "source": [
    "# 10. Discuss the concept of constructor inheritance in Python. How are constructors inherited in child classe\n",
    "'''\n",
    "Constructors are not members, so they are not inherited by subclasses, but the constructor of the superclass can be invoked from the subclass. Below is ex\n",
    "'''\n",
    "\n",
    "class ABC():\n",
    "    def __init__(self, Addr,Company):\n",
    "        self.addr = Addr\n",
    "        self.company = Company\n",
    "        \n",
    "class CDE(ABC):\n",
    "    def __init__(self,email,Addr,Company):\n",
    "        self.email = email\n",
    "        super().__init__(Addr,Company)\n",
    "        \n",
    "obj123 = CDE(\"Chetanfern@gmail\",\"Hebbla\",\"Infy\")\n",
    "obj123.email"
   ]
  },
  {
   "cell_type": "code",
   "execution_count": 127,
   "id": "50065810-8ebb-42aa-ae6a-96abfeb648f0",
   "metadata": {},
   "outputs": [
    {
     "name": "stdout",
     "output_type": "stream",
     "text": [
      "Area of rectangle 144\n",
      "Area of circle 452\n"
     ]
    }
   ],
   "source": [
    "# 11.Create a Python class called `Shape` with a method `area()` that calculates the area of a shape. Then, create child classes `Circle` and `Rectangle` that inherit from `Shape` and implement the `area()` methodaccordingly. Provide an example.\n",
    "\n",
    "class Shape:\n",
    "    def area_rectangle(self,length,breadth):\n",
    "        print(\"Area of rectangle\", length * breadth)\n",
    "        \n",
    "    def area_circle(self,radius):\n",
    "        a =  int(3.14*radius*radius)\n",
    "        print(\"Area of circle\",a)\n",
    "\n",
    "class Rectangle(Shape):\n",
    "    def area_of_rectangle(self):\n",
    "        super().area_rectangle(12,12)\n",
    "        \n",
    "class Circle(Shape):\n",
    "    def area_of_circle(self):\n",
    "        super().area_circle(12)\n",
    "        \n",
    "rec = Rectangle()\n",
    "cir = Circle()\n",
    "rec.area_of_rectangle()\n",
    "cir.area_circle(12)"
   ]
  },
  {
   "cell_type": "code",
   "execution_count": 162,
   "id": "26041cb2-0dbd-477a-ba08-de8c736b0bea",
   "metadata": {},
   "outputs": [
    {
     "name": "stdout",
     "output_type": "stream",
     "text": [
      "Calling concrete method\n"
     ]
    }
   ],
   "source": [
    "# 12. Explain the use of abstract base classes (ABCs) in Python and how they relate to inheritance. Provide an example using the `abc` module.\n",
    "'''\n",
    "1. Abstract classes provide a blueprint for implementing methods into concrete subclasses.\n",
    "2. ABC(Abstract Base Class) plays an important role in making sure that the subclasses must follow that blueprint. \n",
    "3. Thus we can say that the subclasses inherited from the abstract class must follow the same structure and implements the abstract methods.\n",
    "'''\n",
    "from abc import ABC, abstractmethod\n",
    "class test(ABC):\n",
    "    @abstractmethod\n",
    "    def frontend(self):\n",
    "        pass\n",
    "    \n",
    "    @abstractmethod\n",
    "    def backend(self):\n",
    "        pass\n",
    "# Concrete class\n",
    "class prod(test):\n",
    "    def frontend(self):\n",
    "        pass\n",
    "    def backend(self):\n",
    "        pass\n",
    "prod1 = prod()\n",
    "'''\n",
    "We can also define concrete methods within the abstract classes. The concrete method is the normal method that has a complete definition.\n",
    "'''\n",
    "from abc import ABC, abstractmethod\n",
    " \n",
    "# Abstract class\n",
    "class Demo(ABC):\n",
    "    \n",
    "    # Defining a concrete method\n",
    "    def concrete_method(self):\n",
    "        print(\"Calling concrete method\")\n",
    " \n",
    "    @abstractmethod\n",
    "    def data(self):\n",
    "        pass\n",
    " \n",
    "# Derived class\n",
    "class Test(Demo):\n",
    " \n",
    "    def data(self):\n",
    "        pass\n",
    " \n",
    "# Instantiating the class\n",
    "data = Test()\n",
    "# Calling the concrete method\n",
    "data.concrete_method()\n",
    "\n",
    "# Abstract class instantiation\n",
    "'''\n",
    "An abstract class can only be defined but cannot be instantiated because of the fact that they are not a concrete class. \n",
    "Python doesn’t allow creating objects for abstract classes because there is no actual implementation to invoke rather they require subclasses for implementation.\n",
    "'''\n",
    "from abc import ABC, abstractmethod\n",
    " \n",
    "class Details(ABC):\n",
    "    @abstractmethod\n",
    "    def getname(self):\n",
    "        return self.name\n",
    " \n",
    "    @abstractmethod\n",
    "    def getrole(self):\n",
    "        return self.role\n",
    " \n",
    "class Sachin(Details):\n",
    "    def __init__(self, name=\"Sachin\"):\n",
    "        self.name = name\n",
    "        self.role = \"Python Dev\"\n",
    " \n",
    "    def getname(self):\n",
    "        return self.name\n",
    " \n",
    "    def getrole(self):\n",
    "        return self.role\n",
    " \n",
    "# Instantiating the abstract class. You will get an error\n",
    "#abstract_class = Details()"
   ]
  },
  {
   "cell_type": "code",
   "execution_count": 20,
   "id": "374754df-e7ba-4a09-b6e4-bb5eec0fdd45",
   "metadata": {},
   "outputs": [],
   "source": [
    "# 13. How can you prevent a child class from modifying certain attributes or methods inherited from a parent class in Python\n",
    "'''\n",
    "We can do this by making attributes/methods private or protected. Below is the example.\n",
    "'''\n",
    "class test():\n",
    "    def __init__(self):\n",
    "        self.__name = \"CHetan\"\n",
    "        self._city = \"Ben\"\n",
    "        \n",
    "    def __print_details(self):\n",
    "        print(self.__name)\n",
    "        \n",
    "class test1(test):\n",
    "    pass\n",
    "  \n",
    "test2 = test1()"
   ]
  },
  {
   "cell_type": "code",
   "execution_count": 27,
   "id": "7be55522-f398-4497-a81c-3da67063f633",
   "metadata": {},
   "outputs": [
    {
     "name": "stdout",
     "output_type": "stream",
     "text": [
      "Chet Opera 120000\n"
     ]
    }
   ],
   "source": [
    "# 14. Create a Python class called `Employee` with attributes `name` and `salary`. Then, create a child class\n",
    "#`Manager` that inherits from `Employee` and adds an attribute `department`. Provide an example.\n",
    "class Employee:\n",
    "    def __init__(self,name,salary):\n",
    "        self.name = name\n",
    "        self.salary = salary\n",
    "        \n",
    "class Manager(Employee):\n",
    "    def __init__(self,department,name,salary):\n",
    "        self.department = department\n",
    "        super().__init__(name,salary)\n",
    "    def print_details(self):\n",
    "        print(self.name, self.department, self.salary)\n",
    "        \n",
    "ob = Manager(\"Opera\",\"Chet\",120000)\n",
    "ob.print_details()"
   ]
  },
  {
   "cell_type": "code",
   "execution_count": null,
   "id": "2e472d67-8165-4d21-845f-8c9a8a591643",
   "metadata": {},
   "outputs": [],
   "source": [
    "# 15 Discuss the concept of method overloading in Python inheritance. How does it differ from method overriding?\n",
    "'''\n",
    "Creating more than one method with the same name in the same class is called method overloading. \n",
    "Methods with the same name could be declared methods and inherited methods. \n",
    "Overloaded methods must have different number of parameters, different types of parameters, or both.\n",
    "'''\n",
    "'''\n",
    "1.a In the method overloading, methods or functions must have the same name and different signatures.\n",
    "1.b Whereas in the method overriding, methods or functions must have the same name and same signatures.\n",
    "2.a Method overloading is a example of compile time polymorphism.\n",
    "2.b Whereas method overriding is a example of run time polymorphism.\n",
    "3.a In the method overloading, inheritance may or may not be required.\n",
    "3.b Whereas in method overriding, inheritance always required.\n",
    "4.a Method overloading is performed between methods within the class.\n",
    "4.b Whereas method overriding is done between parent class and child class methods\n",
    "5.a It is used in order to add more to the behavior of methods.\n",
    "5.b Whereas it is used in order to change the behavior of exist methods.\n",
    "6.a In method overloading, there is no need of more than one class.\n",
    "6.b Whereas in method overriding, there is need of at least of two classes."
   ]
  },
  {
   "cell_type": "code",
   "execution_count": null,
   "id": "e1690344-fd5d-442d-a3f3-9c132eceb39d",
   "metadata": {},
   "outputs": [],
   "source": [
    "# 16. Explain the purpose of the `__init__()` method in Python inheritance and how it is utilized in child classes.\n",
    "'''\n",
    "When you add the __init__() function, the child class will no longer inherit the parent's __init__() function.\n",
    "To keep the inheritance of the parent's __init__() function, add a call to the parent's __init__() function:\n",
    "Refer below example\n",
    "'''\n",
    "class Employee:\n",
    "    def __init__(self,name,salary):\n",
    "        self.name = name\n",
    "        self.salary = salary\n",
    "        \n",
    "class Manager(Employee):\n",
    "    def __init__(self,department,name,salary):\n",
    "        self.department = department\n",
    "        super().__init__(name,salary) # This is used to keep the inheritance of parent class\n",
    "    def print_details(self):\n",
    "        print(self.name, self.department, self.salary)\n",
    "        \n",
    "ob = Manager(\"Opera\",\"Chet\",120000)\n",
    "ob.print_details()"
   ]
  },
  {
   "cell_type": "code",
   "execution_count": 35,
   "id": "1eb35946-c5a3-4ae6-9ae3-48784a75c31b",
   "metadata": {},
   "outputs": [
    {
     "name": "stdout",
     "output_type": "stream",
     "text": [
      "I am a method of class Eagle\n",
      "I am a method of class Sparrow\n"
     ]
    }
   ],
   "source": [
    "# 17. Create a Python class called `Bird` with a method `fly()`. Then, create child classes `Eagle` and `Sparrow` that inherit from `Bird` and implement the `fly()` method differently. \n",
    "# Provide an example of using theseclasses.\n",
    "class Bird:\n",
    "    def fly(self):\n",
    "        print(\"I am method of class Bird\")\n",
    "        \n",
    "class Eagle(Bird):\n",
    "    def fly(self):\n",
    "        print(\"I am a method of class Eagle\")\n",
    "        \n",
    "\n",
    "class Sparrow(Bird):\n",
    "    def fly(self):\n",
    "        print(\"I am a method of class Sparrow\")  \n",
    "eagle = Eagle()\n",
    "sparrow = Sparrow()\n",
    "eagle.fly()\n",
    "sparrow.fly()"
   ]
  },
  {
   "cell_type": "code",
   "execution_count": 47,
   "id": "e1d70d16-bb29-4884-b11b-275467e64cd3",
   "metadata": {},
   "outputs": [
    {
     "name": "stdout",
     "output_type": "stream",
     "text": [
      "In Class4\n",
      "In Class2\n",
      "In Class3\n",
      "In Class1\n"
     ]
    }
   ],
   "source": [
    "# 18. What is the \"diamond problem\" in multiple inheritance, and how does Python address it?\n",
    "# Python Program to depict multiple inheritance\n",
    "# when every class defines the same method\n",
    "\n",
    "# Python program to demonstrate\n",
    "# super()\n",
    "\n",
    "class Class1:\n",
    "\tdef m(self):\n",
    "\t\tprint(\"In Class1\")\n",
    "\n",
    "class Class2(Class1):\n",
    "\tdef m(self):\n",
    "\t\tprint(\"In Class2\")\n",
    "\t\tsuper().m()\n",
    "        \n",
    "class Class3(Class1):\n",
    "    def m(self):\n",
    "        print(\"In Class3\")\n",
    "        super().m()\n",
    "        \n",
    "class Class4(Class2, Class3):\n",
    "    def m(self):\n",
    "        print(\"In Class4\")   \n",
    "        super().m()\n",
    "\n",
    "obj = Class4()\n",
    "obj.m()"
   ]
  },
  {
   "cell_type": "code",
   "execution_count": 77,
   "id": "1ce338d6-756c-4d18-9d89-6fe82b9497f1",
   "metadata": {},
   "outputs": [
    {
     "name": "stdout",
     "output_type": "stream",
     "text": [
      "A\n"
     ]
    }
   ],
   "source": [
    "# 18. What is the \"diamond problem\" in multiple inheritance, and how does Python address it?\n",
    "'''\n",
    "When the same parent class occurs more than once in the depth-first approach. This is called Diamond Problem.\n",
    "The “diamond problem” (sometimes referred to as the “Deadly Diamond of Death”) is an ambiguity that arises when two classes B and C inherit from A, and class D inherits from both B and C.. \n",
    "If there is a method in A that B and C have overridden, and D does not override it, then which version of the method does D inherit: that of B, or that of C?\n",
    "In such case method resolution order (MRO) comes to rescue\n",
    "'''\n",
    "class X:\n",
    " name = 'X'\n",
    "class Y:\n",
    " name = 'Y'\n",
    "class Z:\n",
    " name = 'Z'\n",
    "class A(X, Y):\n",
    " name = 'A'\n",
    "class B(Y, Z):\n",
    " pass\n",
    "class M(B,A):\n",
    " pass\n",
    "print(M.name)"
   ]
  },
  {
   "cell_type": "code",
   "execution_count": null,
   "id": "6aea62dd-815f-4acc-b8d6-6455c724462d",
   "metadata": {},
   "outputs": [],
   "source": [
    "# 19. Discuss the concept of \"is-a\" and \"has-a\" relationships in inheritance, and provide examples of each.\n"
   ]
  },
  {
   "cell_type": "code",
   "execution_count": 121,
   "id": "6a39281e-3c1d-4a40-9690-3dd5dc0c3bb4",
   "metadata": {},
   "outputs": [
    {
     "name": "stdout",
     "output_type": "stream",
     "text": [
      "Course -> DSA, Year -> 3,Name - > Chetan\n",
      "Prfessor -> PWSKILLS\n"
     ]
    }
   ],
   "source": [
    "# 20 Create a Python class hierarchy for a university system. Start with a base class `Person` and create child\n",
    "#classes `Student` and `Professor`, each with their own attributes and methods. Provide an example of using\n",
    "# hese classes in a university content\n",
    "class person:\n",
    "    def __init__(self,name):\n",
    "        self.name = name\n",
    "    def print_details(self):\n",
    "        print(self.name)\n",
    "        \n",
    "class student(person):\n",
    "    def __init__(self,name,course,year):\n",
    "        self.course = course\n",
    "        self.year = year\n",
    "        super().__init__(name)\n",
    "        \n",
    "    def print_details(self):\n",
    "        print(f\"Course -> {self.course}, Year -> {self.year},Name - > {self.name}\")\n",
    "\n",
    "class professor(person):\n",
    "    def __init__(self,professorname):\n",
    "        self.professorname = professorname\n",
    "    def print_details(self):\n",
    "        print(f\"Prfessor -> {self.professorname}\")\n",
    "\n",
    "    \n",
    "student1 = student(\"Chetan\",\"DSA\",3)\n",
    "student1.print_details()\n",
    "\n",
    "professor1 = professor(\"PWSKILLS\")\n",
    "professor1.print_details()"
   ]
  },
  {
   "cell_type": "code",
   "execution_count": null,
   "id": "07ce9882-a37d-4176-989b-a83006ce53ab",
   "metadata": {},
   "outputs": [],
   "source": [
    "# Encapsulation:\n",
    "# 1. Explain the concept of encapsulation in Python. What is its role in object-oriented programming?\n",
    "'''\n",
    "1.a - Encapsulation is one of the fundamental concepts in object-oriented programming (OOP)\n",
    "2.b - It describes the idea of wrapping data and the methods that work on data within one unit.\n",
    "3.c - This puts restrictions on accessing variables and methods directly and can prevent the accidental modification of data.\n",
    "4.d - To prevent accidental change, an object’s variable can only be changed by an object’s method. Those types of variables are known as private variables.\n",
    "'''"
   ]
  },
  {
   "cell_type": "code",
   "execution_count": null,
   "id": "b486000a-633b-4a2f-a660-d1dfce3b0345",
   "metadata": {},
   "outputs": [],
   "source": [
    "# 2. Describe the key principles of encapsulation, including access control and data hiding.\n",
    "'''\n",
    "Encapsulation is guided by the following principles:\n",
    "\n",
    "Data Hiding: The internal representation of an object’s data is hidden from the outside world. \n",
    "This is achieved by declaring data members as private within the class.\n",
    "Outside entities can only access the data through public methods (getters and setters), ensuring data integrity and preventing unauthorized access.\n",
    "\n",
    "Abstraction: Encapsulation allows for the abstraction of complex data and functionality into simpler, higher-level units. \n",
    "This promotes a clear separation of concerns and reduces code complexity.\n",
    "\n",
    "Access Control: By defining access modifiers (public, private, protected), encapsulation enables fine-grained control over the visibility and accessibility of class members.\n",
    "This enhances security and prevents unintended modifications of sensitive data.\n",
    "'''"
   ]
  },
  {
   "cell_type": "code",
   "execution_count": 20,
   "id": "ede8706a-3347-481f-a369-968b55a984a3",
   "metadata": {},
   "outputs": [
    {
     "name": "stdout",
     "output_type": "stream",
     "text": [
      "chetan\n",
      "Abc\n"
     ]
    }
   ],
   "source": [
    "# 3. How can you achieve encapsulation in Python classes? Provide an example.\n",
    "'''\n",
    "You can achieve encapsulation by declaring variables or methods as private. Below is example\n",
    "'''\n",
    "class employee:\n",
    "    def __init__(self,name,age):\n",
    "        self.__name = name\n",
    "        self.__age = age\n",
    "    \n",
    "    def get_name(self):\n",
    "        return self.__name\n",
    "    \n",
    "    def set_name(self,name):\n",
    "        self.__name = name\n",
    "        \n",
    "    def display_name(self):\n",
    "        print(self.__name)\n",
    "        \n",
    "employee1 = employee(\"chetan\",12)  \n",
    "print(employee1.get_name())\n",
    "employee1.set_name(\"Abc\")\n",
    "employee1.display_name()"
   ]
  },
  {
   "cell_type": "code",
   "execution_count": null,
   "id": "2ac3baaf-b21e-44cb-a9e9-ab2ec4dc803e",
   "metadata": {},
   "outputs": [],
   "source": [
    "# 4 .Discuss the difference between public, private, and protected access modifiers in Python.\n",
    "'''\n",
    "Public methods are accessible outside the class and with the help of objects the public methods can be invoked inside the class.\n",
    "All the variables and methods in a Python class are public by default and just like mentioned above can be accessed from outside the class environment.\n",
    "\n",
    "Protected variables and methods are accessible within the specific class environment and can also be accessed by the sub-classes. \n",
    "We can also say that it allows the resources of the parent class to be inherited by the child clas\n",
    "Any variables or methods prefixed with a single underscore (_) in a class are protected and can be accessed within the specific class environment. \n",
    "The protected variables/methods can be accessed inside the sub-classes of the parent class.\n",
    "The protected variables and functions can be accessed by the derived classes and any other classes but it is the sole responsibility of the good programmer not to use the protected data members outside the specific class environment.\n",
    "\n",
    "“Private” access modifier restricts the variables and methods declared inside the specific class to that class environment.\n",
    "Simply put, the variables and methods declared inside a class can be accessed inside that class environment and not outside that class\n",
    "Variables and methods prefixed with a double underscore (__) make them private and cannot be accessed outside the specific class. Let’s understand it with an example.\n",
    "'''"
   ]
  },
  {
   "cell_type": "code",
   "execution_count": 34,
   "id": "2f6ed9b7-3520-4a0c-bac6-ad3f6f90dd2e",
   "metadata": {},
   "outputs": [
    {
     "name": "stdout",
     "output_type": "stream",
     "text": [
      "Chetan\n",
      "Sheryl\n"
     ]
    }
   ],
   "source": [
    "# 5. Create a Python class called `Person` with a private attribute `__name`. Provide methods to get and set the name attribute.\n",
    "class Person:\n",
    "    def __init__(self,name):\n",
    "        self.__name = name\n",
    "    \n",
    "    @property\n",
    "    def get(self):\n",
    "        return self.__name\n",
    "    \n",
    "    @get.setter\n",
    "    def set(self,name):\n",
    "        self.__name = name\n",
    "        \n",
    "    @get.getter  \n",
    "    def display_name(self):\n",
    "        print(self.__name)\n",
    "        \n",
    "person1 = Person(\"Chetan\")  \n",
    "print(person1.get)\n",
    "person1.set = \"Sheryl\"\n",
    "person1.display_name"
   ]
  },
  {
   "cell_type": "code",
   "execution_count": 35,
   "id": "bcd2562b-95f6-4bae-99f7-fb33d65a25a1",
   "metadata": {},
   "outputs": [
    {
     "name": "stdout",
     "output_type": "stream",
     "text": [
      "chetan\n",
      "Abc\n"
     ]
    }
   ],
   "source": [
    "# 6 Explain the purpose of getter and setter methods in encapsulation. Provide examples\n",
    "'''\n",
    "Getter is used to read the value of private varaiable\n",
    "Setter is used to update the value for private varaiable\n",
    "'''\n",
    "class employee:\n",
    "    def __init__(self,name,age):\n",
    "        self.__name = name\n",
    "        self.__age = age\n",
    "    \n",
    "    def get_name(self):\n",
    "        return self.__name\n",
    "    \n",
    "    def set_name(self,name):\n",
    "        self.__name = name\n",
    "        \n",
    "    def display_name(self):\n",
    "        print(self.__name)\n",
    "        \n",
    "employee1 = employee(\"chetan\",12)  \n",
    "print(employee1.get_name())\n",
    "employee1.set_name(\"Abc\")\n",
    "employee1.display_name()"
   ]
  },
  {
   "cell_type": "code",
   "execution_count": 44,
   "id": "8556f3f4-b745-49c1-bc12-8fcb71f51f58",
   "metadata": {},
   "outputs": [
    {
     "name": "stdout",
     "output_type": "stream",
     "text": [
      "In parent class\n",
      "In Child class\n"
     ]
    }
   ],
   "source": [
    "# 7. What is name mangling in Python, and how does it affect encapsulation?\n",
    "'''\n",
    "In name mangling process any identifier with two leading underscore and one trailing underscore is textually replaced with _classname__identifier where classname is the name of the current class\n",
    "In encapsulation it is used to read private variable outside the class\n",
    "'''\n",
    "# Python code to illustrate how mangling works \n",
    "# With method overriding \n",
    "\n",
    "class Map: \n",
    "\tdef __init__(self): \n",
    "\t\tself.__geek() \n",
    "\t\t\n",
    "\tdef geek(self): \n",
    "\t\tprint(\"In parent class\") \n",
    "\t\n",
    "\t# private copy of original geek() method \n",
    "\t__geek = geek\t \n",
    "\t\n",
    "class MapSubclass(Map): \n",
    "\t\t\n",
    "\t# provides new signature for geek() but \n",
    "\t# does not break __init__() \n",
    "\tdef geek(self):\t\t \n",
    "\t\tprint(\"In Child class\") \n",
    "\t\t\n",
    "# Driver's code \n",
    "obj = MapSubclass() \n",
    "obj.geek() "
   ]
  },
  {
   "cell_type": "code",
   "execution_count": 137,
   "id": "d7634fb8-6d00-4866-8017-fdc75bd9f600",
   "metadata": {},
   "outputs": [
    {
     "name": "stdin",
     "output_type": "stream",
     "text": [
      "Enter account number 12345\n"
     ]
    },
    {
     "name": "stdout",
     "output_type": "stream",
     "text": [
      "Incorrect account number\n"
     ]
    }
   ],
   "source": [
    "# 8. Create a Python class called `BankAccount` with private attributes for the account balance (`__balance`) and account number (`__account_number`). \n",
    "# Provide methods for depositing and withdrawing money.\n",
    "class Bankaccount():\n",
    "    \n",
    "    def __init__(self):\n",
    "        self.__balance = 0\n",
    "        self.__account_number = int(1234)\n",
    "      \n",
    "    @property\n",
    "    def get_balance(self):\n",
    "        print(\"Your balance is\",self.__balance)\n",
    "    \n",
    "    #Deposit Money    \n",
    "    @get_balance.setter\n",
    "    def set_balance(self,balance):\n",
    "        self.__balance = balance\n",
    "        \n",
    "    @get_balance.getter\n",
    "    def withdraw_money(self):\n",
    "        x = int(input(\"Enter account number\"))\n",
    "        if x == self.__account_number:\n",
    "            print(self.__balance)\n",
    "        else:\n",
    "            print(\"Incorrect account number\")\n",
    "    \n",
    "\n",
    "bankaccount = Bankaccount()\n",
    "bankaccount.set_balance = 2344\n",
    "bankaccount.withdraw_money"
   ]
  },
  {
   "cell_type": "code",
   "execution_count": null,
   "id": "ac83b097-082d-4ce0-b96c-28309ff58c58",
   "metadata": {},
   "outputs": [],
   "source": [
    "# 9. Discuss the advantages of encapsulation in terms of code maintainability and security.\n",
    "'''\n",
    "Encapsulation offers several advantages in software development:\n",
    "\n",
    "1.Data Protection: Data hiding ensures that the internal state of an object is shielded from external manipulation, preventing data corruption and ensuring data integrity.\n",
    "2.Code Reusability: Encapsulated classes can be reused in various parts of a program or in different projects, reducing code duplication and promoting code reusability.\n",
    "3.Modularity: Encapsulation facilitates code organization into separate modules (classes), making the codebase easier to maintain and understand.\n",
    "4.Security: By restricting direct access to data, encapsulation enhances security, reducing the risk of unauthorized access and manipulation of sensitive information.\n",
    "5.Isolation of Changes: Encapsulation minimizes the impact of changes within a class to the rest of the program, promoting better code maintenance and reducing bugs.\n",
    "'''\n"
   ]
  },
  {
   "cell_type": "code",
   "execution_count": 139,
   "id": "4a8cbeba-201b-4054-a555-2e25c01adfae",
   "metadata": {},
   "outputs": [
    {
     "data": {
      "text/plain": [
       "'Chetan'"
      ]
     },
     "execution_count": 139,
     "metadata": {},
     "output_type": "execute_result"
    }
   ],
   "source": [
    "# 10. How can you access private attributes in Python? Provide an example demonstrating the use of name mangling.\n",
    "class Person:\n",
    "    def __init__(self,name):\n",
    "        self.__name = name\n",
    "        \n",
    "person1 = Person(\"Chetan\")\n",
    "person1._Person__name # Use of Mangling"
   ]
  },
  {
   "cell_type": "code",
   "execution_count": 199,
   "id": "d01cae17-91d7-4f91-b3a5-06c0a9030284",
   "metadata": {},
   "outputs": [
    {
     "name": "stdout",
     "output_type": "stream",
     "text": [
      "Old student Id -> 1234\n",
      "New student Id -> 7890\n",
      "Old teachers ID  -> XYS\n",
      "New teachers ID  -> ABC\n",
      "Old course ID  ->  DSA\n",
      "Old course ID  -> DSA_1\n"
     ]
    }
   ],
   "source": [
    "# 11. Create a Python class hierarchy for a school system, including classes for students, teachers, and courses,and implement encapsulation principles to protect sensitive information.\n",
    "class students:\n",
    "    def __init__(self):\n",
    "        self.__student_id = 1234\n",
    "        \n",
    "    def get_id(self):\n",
    "        print(f\"Old student Id -> {self.__student_id}\")\n",
    "        \n",
    "    def set_id(self,new_id):\n",
    "        self.__student_id = new_id\n",
    "        \n",
    "    def display_id(self):\n",
    "        print(f\"New student Id -> {self.__student_id}\")\n",
    "        \n",
    "students1 = students()\n",
    "students1.get_id()\n",
    "students1.set_id(7890)\n",
    "students1.display_id()\n",
    "\n",
    "class teachers:\n",
    "    def __init__(self):\n",
    "        self.__teachers_ID = \"XYS\"\n",
    "        \n",
    "    def get_id(self):\n",
    "        print(f\"Old teachers ID  -> {self.__teachers_ID}\")\n",
    "        \n",
    "    def set_id(self,new_id):\n",
    "        self.__teachers_ID = new_id\n",
    "        \n",
    "    def display_id(self):\n",
    "        print(f\"New teachers ID  -> {self.__teachers_ID}\")\n",
    "        \n",
    "teachers1 = teachers()\n",
    "teachers1.get_id()\n",
    "teachers1.set_id(\"ABC\")\n",
    "teachers1.display_id()\n",
    "\n",
    "class courses:\n",
    "    def __init__(self):\n",
    "        self.__course_ID = \"DSA\"\n",
    "        \n",
    "    def get_id(self):\n",
    "        print(f\"Old course ID  ->  {self.__course_ID}\")\n",
    "        \n",
    "    def set_id(self,new_id):\n",
    "        self.__course_ID = new_id\n",
    "        \n",
    "    def display_id(self):\n",
    "        print(f\"Old course ID  -> {self.__course_ID}\")\n",
    "        \n",
    "course1 = courses()\n",
    "course1.get_id()\n",
    "course1.set_id(\"DSA_1\")\n",
    "course1.display_id()"
   ]
  },
  {
   "cell_type": "code",
   "execution_count": 219,
   "id": "a6cf482d-c120-487c-9f5e-bb4365f2c2ab",
   "metadata": {},
   "outputs": [],
   "source": [
    "# 12. Explain the concept of property decorators in Python and how they relate to encapsulation\n",
    "'''\n",
    "The @property is a built-in decorator for the property() function in Python. \n",
    "It is used to give \"special\" functionality to certain methods to make them act as getters, setters, or deleters when we define properties in a class.\n",
    "'''\n",
    "class Bankaccount():\n",
    "    \n",
    "    def __init__(self):\n",
    "        self.__balance = 0\n",
    "        self.__account_number = int(1234)\n",
    "      \n",
    "    @property\n",
    "    def get_balance(self):\n",
    "        print(\"Your balance is\",self.__balance)\n",
    "    \n",
    "    #Deposit Money    \n",
    "    @get_balance.setter\n",
    "    def set_balance(self,balance):\n",
    "        self.__balance = balance\n",
    "        \n",
    "    @get_balance.getter\n",
    "    def withdraw_money(self):\n",
    "        x = int(input(\"Enter account number\"))\n",
    "        if x == self.__account_number:\n",
    "            print(self.__balance)\n",
    "        else:\n",
    "            print(\"Incorrect account number\")\n",
    "            \n",
    "    @get_balance.deleter\n",
    "    def delete(self):\n",
    "        del  self.__balance\n",
    "    \n",
    "\n",
    "bankaccount = Bankaccount()\n",
    "bankaccount.set_balance = 5000\n",
    "del bankaccount.delete"
   ]
  },
  {
   "cell_type": "code",
   "execution_count": 220,
   "id": "12584c73-29d0-4c14-98ad-07a16cdcc9b5",
   "metadata": {},
   "outputs": [
    {
     "name": "stdout",
     "output_type": "stream",
     "text": [
      "Chetan\n",
      "Sheryl\n"
     ]
    }
   ],
   "source": [
    "# 13. What is data hiding, and why is it important in encapsulation? Provide examples.\n",
    "'''\n",
    "Data Hiding: The internal representation of an object’s data is hidden from the outside world. \n",
    "This is achieved by declaring data members as private within the class. Outside entities can only access the data through public methods (getters and setters), ensuring data integrity and preventing unauthorized access.\n",
    "'''\n",
    "class Person:\n",
    "    def __init__(self,name):\n",
    "        self.__name = name\n",
    "    \n",
    "    @property\n",
    "    def get(self):\n",
    "        return self.__name\n",
    "    \n",
    "    @get.setter\n",
    "    def set(self,name):\n",
    "        self.__name = name\n",
    "        \n",
    "    @get.getter  \n",
    "    def display_name(self):\n",
    "        print(self.__name)\n",
    "        \n",
    "person1 = Person(\"Chetan\")  \n",
    "print(person1.get)\n",
    "person1.set = \"Sheryl\"\n",
    "person1.display_name"
   ]
  },
  {
   "cell_type": "code",
   "execution_count": 235,
   "id": "50580e1c-6022-44f2-9d9c-0ca4c87ac3c6",
   "metadata": {},
   "outputs": [
    {
     "name": "stdout",
     "output_type": "stream",
     "text": [
      "Your yearly bonus is {2500}\n"
     ]
    }
   ],
   "source": [
    "# 14. Create a Python class called `Employee` with private attributes for salary (`__salary`) and employee ID (`__employee_id`). Provide a method to calculate yearly bonuses.\n",
    "class Employee():\n",
    "    def __init__(self,salary,employee_id):\n",
    "        self.__salary = salary\n",
    "        self.__employee_id = employee_id\n",
    "        \n",
    "    def bonus(self,percentage):\n",
    "        bonus_yearly =  int(self.__salary * percentage)\n",
    "        print(\"Your yearly bonus is\",{bonus_yearly})\n",
    "        \n",
    "employee = Employee(50000,2)\n",
    "employee.bonus(.05)"
   ]
  },
  {
   "cell_type": "code",
   "execution_count": 237,
   "id": "3214fe79-286b-49cc-af2d-f5aa23b43128",
   "metadata": {},
   "outputs": [
    {
     "name": "stdout",
     "output_type": "stream",
     "text": [
      "chetan\n",
      "Abc\n"
     ]
    }
   ],
   "source": [
    "# 15. Discuss the use of accessors and mutators in encapsulation. How do they help maintain control over attribute access?\n",
    "'''\n",
    "Accessors and Mutators that are helpful in accessing and altering respectively, internally stored data. \n",
    "\n",
    "Accessor Method: This method is used to access the state of the object i.e, the data hidden in the object can be accessed from this method. \n",
    "However, this method cannot change the state of the object, it can only access the data hidden. \n",
    "We can name these methods with the word get.\n",
    "\n",
    "Mutator Method: This method is used to mutate/modify the state of an object i.e, it alters the hidden value of the data variable. It can set the value of a variable instantly to a new value. \n",
    "This method is also called as update method. \n",
    "Moreover, we can name these methods with the word set.\n",
    "'''\n",
    "\n",
    "class employee:\n",
    "    def __init__(self,name,age):\n",
    "        self.__name = name\n",
    "        self.__age = age\n",
    "    \n",
    "    def get_name(self):\n",
    "        return self.__name\n",
    "    \n",
    "    def set_name(self,name):\n",
    "        self.__name = name\n",
    "        \n",
    "    def display_name(self):\n",
    "        print(self.__name)\n",
    "        \n",
    "employee1 = employee(\"chetan\",12)  \n",
    "print(employee1.get_name())\n",
    "employee1.set_name(\"Abc\")\n",
    "employee1.display_name()"
   ]
  },
  {
   "cell_type": "code",
   "execution_count": null,
   "id": "77cfd17c-7c5f-4a33-a78d-83c5c71cb02d",
   "metadata": {},
   "outputs": [],
   "source": [
    "# 16. What are the potential drawbacks or disadvantages of using encapsulation in Python?\n",
    "'''\n",
    "Disadvantages of Encapsulation\n",
    "Code Size:The length of the code increases drastically in the case of encapsulation as we need to provide all the methods with the specifiers.\n",
    "\n",
    "More Instructions: As the size of the code increases, therefore, you need to provide additional instructions for every method.\n",
    "\n",
    "Increased code execution: Encapsulation results in an increase in the duration of the program execution. It is because more instructions are added to the code therefore they require more time to execute.\n",
    "'''"
   ]
  },
  {
   "cell_type": "code",
   "execution_count": 239,
   "id": "50dc4617-8413-4990-9fef-cb51c4acb279",
   "metadata": {},
   "outputs": [
    {
     "name": "stdout",
     "output_type": "stream",
     "text": [
      "DSA ABC Yes\n"
     ]
    }
   ],
   "source": [
    "#17. Create a Python class for a library system that encapsulates book information, including titles, authors,and availability status.\n",
    "\n",
    "class Library:\n",
    "    def __init__(self,Book_title,Book_authors,Book_status):\n",
    "        self.__title = Book_title\n",
    "        self.__authors = Book_authors\n",
    "        self.__status = Book_status\n",
    "    \n",
    "    def get_details(self):\n",
    "        print(self.__title, self.__authors,self.__status)\n",
    "    \n",
    "    def set_name(self,title,authors,status):\n",
    "        self.__title = title\n",
    "        self.__authors = authors\n",
    "        self.__status = status\n",
    "        \n",
    "    def display_name(self):\n",
    "        print(self.__title, self.__authors,self.__status)\n",
    "        \n",
    "library = Library(\"DSA\",\"ABC\",\"Yes\")  \n",
    "library.get_details()"
   ]
  },
  {
   "cell_type": "code",
   "execution_count": null,
   "id": "02f216d8-eb27-43e8-9124-c6cf393908f6",
   "metadata": {},
   "outputs": [],
   "source": [
    "# 18 Explain how encapsulation enhances code reusability and modularity in Python programs.\n",
    "'''\n",
    "Code Reusability: Encapsulated classes can be reused in various parts of a program or in different projects, reducing code duplication and promoting code reusability.\n",
    "Modularity: Encapsulation facilitates code organization into separate modules (classes), making the codebase easier to maintain and understand.\n",
    "'''"
   ]
  },
  {
   "cell_type": "code",
   "execution_count": null,
   "id": "ddf85b28-67f6-45d8-90a6-47c8cd96c1c7",
   "metadata": {},
   "outputs": [],
   "source": [
    "# 19 Describe the concept of information hiding in encapsulation. Why is it essential in software development?\n",
    "'''\n",
    "Information hiding is a software design principle closely related to encapsulation. It emphasizes the need to hide implementation details of a class or module from the external world, exposing only essential interfaces. This approach helps manage the complexity of a system, promotes code modularity, and protects sensitive data. Information hiding plays a vital role in ensuring software security, maintainability, and flexibility.\n",
    "Benefits of Information Hiding:\n",
    "1.Information hiding provides several benefits in software development:\n",
    "2.Improved Security: Hiding sensitive data and implementation details reduces the risk of data breaches and unauthorized access, enhancing software security.\n",
    "3.Simplified Code Maintenance: Changes made to the internal implementation of a class have minimal impact on external code, making software maintenance easier.\n",
    "4.Code Reusability: Hiding implementation details allows developers to reuse code modules without worrying about their internal complexities.\n",
    "Enhanced Code Readability: By exposing only essential interfaces, information hiding makes code more readable and understandable.\n",
    "'''"
   ]
  },
  {
   "cell_type": "code",
   "execution_count": 242,
   "id": "3f05c21a-e0e2-46d2-ad35-cd88d8c89b94",
   "metadata": {},
   "outputs": [
    {
     "name": "stdout",
     "output_type": "stream",
     "text": [
      "Chetan Hebbal 2767\n"
     ]
    }
   ],
   "source": [
    "# 20. Create a Python class called `Customer` with private attributes for customer details like name, address,\n",
    "# nd contact information. Implement encapsulation to ensure data integrity and security\n",
    "class Customer:\n",
    "    def __init__(self,name,address,contact_no):\n",
    "        self.__name = name\n",
    "        self.__address = address\n",
    "        self.__contact_no = contact_no\n",
    "    \n",
    "    def get_details(self):\n",
    "        print(self.__name,  self.__address,self.__contact_no)\n",
    "    \n",
    "    def set_name(self,name,address,contact_no):\n",
    "        self.__name = name\n",
    "        self.__address = address\n",
    "        self.__contact_no = contact_no\n",
    "        \n",
    "    def display_name(self):\n",
    "        print(self.__name,self.__address,self.__contact_no)\n",
    "        \n",
    "library = Library(\"Chetan\",\"Hebbal\",2767)  \n",
    "library.get_details()"
   ]
  },
  {
   "cell_type": "code",
   "execution_count": 7,
   "id": "544e5846-0aab-4c0e-bc49-a7fb95101e71",
   "metadata": {},
   "outputs": [
    {
     "name": "stdout",
     "output_type": "stream",
     "text": [
      "30\n",
      "chetan\n",
      "5\n",
      "9\n"
     ]
    }
   ],
   "source": [
    "# Polymorphism:\n",
    "# 1. What is polymorphism in Python? Explain how it is related to object-oriented programming.\\\n",
    "'''\n",
    "The word polymorphism means having many forms. In programming, polymorphism means the same function name (but different signatures) being used for different types. \n",
    "The key difference is the data types and number of arguments used in function.\n",
    "'''\n",
    "# Polymorphism in Python through Operator Overloading\n",
    "a = 10\n",
    "b = 20\n",
    "print(a+b)\n",
    "\n",
    "a = \"che\"\n",
    "b = \"tan\"\n",
    "print(a+b)\n",
    "\n",
    "def add(a,b,c = 0):\n",
    "    print(a+b+c)\n",
    "\n",
    "add(2,3)\n",
    "add(2,3,4)"
   ]
  },
  {
   "cell_type": "code",
   "execution_count": 2,
   "id": "7778f83c-1304-4fe3-828f-d1ddb1f176ee",
   "metadata": {},
   "outputs": [
    {
     "data": {
      "text/plain": [
       "3"
      ]
     },
     "execution_count": 2,
     "metadata": {},
     "output_type": "execute_result"
    }
   ],
   "source": [
    "# 2. Describe the difference between compile-time polymorphism and runtime polymorphism in Python.\n",
    "'''\n",
    "\n",
    "1.a In Compile time Polymorphism, the call is resolved by the compiler.\t\n",
    "1.b In Run time Polymorphism, the call is not resolved by the compiler.\n",
    "2.a It is also known as Static binding, Early binding and overloading as well.\t\n",
    "2.b It is also known as Dynamic binding, Late binding and overriding as well.\n",
    "3.a Method overloading is the compile-time polymorphism where more than one methods share the same name with different parameters or signature and different return type.\t\n",
    "3.b Method overriding is the runtime polymorphism having the same method with same parameters or signature but associated withcompared, different classes.\n",
    "4.a It is achieved by function overloading and operator overloading.\t\n",
    "4.b It is achieved by virtual functions and pointers.\n",
    "5.a It provides fast execution because the method that needs to be executed is known early at the compile time.\t\n",
    "5.b It provides slow execution as compare to early binding because the method that needs to be executed is known at the runtime.\n",
    "6.a Compile time polymorphism is less flexible as all things execute at compile time.\t\n",
    "6.b Run time polymorphism is more flexible as all things execute at run time.\n",
    "7.a Inheritance is not involved. \t\n",
    "7.b Inheritance is involved.\n",
    "'''\n",
    "# Polymorphism in Python through Operator Overloading\n",
    "# Example 1\n",
    "a = 10\n",
    "b = 20\n",
    "print('Addition of 2 numbers:', a + b)\n",
    "\n",
    "str1 = 'Hello '\n",
    "str2 = 'Python'\n",
    "print('Concatenation of 2 strings:', str1 + str2)\n",
    "\n",
    "list1 = [1, 2, 3]\n",
    "list2 = ['A', 'B']\n",
    "print('Concatenation of 2 lists:', list1 + list2)\n",
    "\n",
    "# Example 2\n",
    "a = 10\n",
    "b = 5\n",
    "print('Multiplication of 2 numbers:', a * b)\n",
    "\n",
    "num = 3\n",
    "mystr = 'Python'\n",
    "print('Multiplication of string:', num * mystr)\n",
    "\n",
    "# Function Polymorphism in Python\n",
    "\n",
    "mystr = 'Programming'\n",
    "print('Length of string:', len(mystr))\n",
    "\n",
    "mylist = [1, 2, 3, 4, 5]\n",
    "print('Length of list:', len(mylist))\n",
    "\n",
    "mydict = {1: 'One', 2: 'Two'}\n",
    "print('Length of dict:', len(mydict))\n",
    "\n",
    "#Class Polymorphism in Python\n",
    "\n",
    "class Tiger():\n",
    "    def nature(self):\n",
    "        print('I am a Tiger and I am dangerous.')\n",
    "\n",
    "    def color(self):\n",
    "        print('Tigers are orange with black strips')\n",
    "\n",
    "class Elephant():\n",
    "    def nature(self):\n",
    "        print('I am an Elephant and I am calm and harmless')\n",
    "\n",
    "    def color(self):\n",
    "        print('Elephants are grayish black')\n",
    "\n",
    "obj1 = Tiger()\n",
    "obj2 = Elephant()\n",
    "\n",
    "for animal in (obj1, obj2): # creating a loop to iterate through the obj1 and obj2\n",
    "    animal.nature()\n",
    "    animal.color()\n",
    "    \n",
    "# Polymorphism and Inheritance (Method Overriding)\n",
    "\n",
    "class Vehicle:\n",
    "    def __init__(self, brand, model, price):\n",
    "        self.brand = brand\n",
    "        self.model = model\n",
    "        self.price = price\n",
    "\n",
    "    def show(self):\n",
    "        print('Details:', self.brand, self.model, 'Price:', self.price)\n",
    "\n",
    "    def max_speed(self):\n",
    "        print('Vehicle max speed is 160')\n",
    "\n",
    "    def gear_system(self):\n",
    "        print('Vehicle has 6 shifter gearbox')\n",
    "\n",
    "# inherit from vehicle class\n",
    "class Car(Vehicle):\n",
    "    def max_speed(self):\n",
    "        print('Car max speed is 260')\n",
    "\n",
    "    def gear_system(self):\n",
    "        print('Car has Automatic Transmission')\n",
    "\n",
    "# Car Object\n",
    "car = Car('Audi', 'R8', 9000000)\n",
    "car.show()\n",
    "# call methods from Car class\n",
    "car.max_speed()\n",
    "car.gear_system()\n",
    "\n",
    "# Vehicle Object\n",
    "vehicle = Vehicle('Nissan', 'Magnite', 550000)\n",
    "vehicle.show()\n",
    "# call method from a Vehicle class\n",
    "vehicle.max_speed()\n",
    "vehicle.gear_system()"
   ]
  },
  {
   "cell_type": "code",
   "execution_count": 70,
   "id": "901ec02c-818e-480f-9be5-f7d70b27b4ab",
   "metadata": {},
   "outputs": [
    {
     "name": "stdout",
     "output_type": "stream",
     "text": [
      "Area of circle 12.56\n",
      "Area of square 25\n",
      "Area of traingle 3.0\n"
     ]
    }
   ],
   "source": [
    "# 3. Create a Python class hierarchy for shapes (e.g., circle, square, triangle) and \n",
    "# demonstrate polymorphism through a common method, such as `calculate_area()`.\n",
    "class circle:\n",
    "    def __init__(self,radius):\n",
    "        self.radius = radius\n",
    "    def calculate_area(self):\n",
    "        area = 3.14 * self.radius  * self.radius \n",
    "        print(\"Area of circle\",area)\n",
    "class square:\n",
    "    def __init__(self,length):\n",
    "        self.length = length\n",
    "    def calculate_area(self):\n",
    "        area =  self.length * self.length\n",
    "        print(\"Area of square\",area)\n",
    "class traingle:\n",
    "    def __init__(self,base,height):\n",
    "        self.base = base\n",
    "        self.height = height\n",
    "    def calculate_area(self):\n",
    "        area = 0.5 * self.base *self.height\n",
    "        print(\"Area of traingle\",area)\n",
    "        \n",
    "circle1 = circle(2)\n",
    "square1 = square(5)\n",
    "traingle1 = traingle(2,3)\n",
    "for a in (circle1,square1,traingle1):\n",
    "    a.calculate_area()"
   ]
  },
  {
   "cell_type": "code",
   "execution_count": 2,
   "id": "6895561c-b727-4838-9a4a-fccaa58154d0",
   "metadata": {},
   "outputs": [
    {
     "name": "stdout",
     "output_type": "stream",
     "text": [
      "Details: Audi R8 Price: 9000000\n",
      "Car max speed is 260\n",
      "Car has Automatic Transmission\n",
      "Details: Nissan Magnite Price: 550000\n",
      "Vehicle max speed is 160\n",
      "Vehicle has 6 shifter gearbox\n"
     ]
    }
   ],
   "source": [
    "# 4. Explain the concept of method overriding in polymorphism. Provide an example\n",
    "'''\n",
    "\n",
    "Method overriding is an ability of any object-oriented programming language that allows a subclass or child class to provide a specific implementation of a method that is already provided by one of its super-classes or parent classes. \n",
    "When a method in a subclass has the same name, same parameters or signature and same return type(or sub-type) as a method in its super-class, then the method in the subclass is said to override the method in the super-class.\n",
    "\n",
    "\n",
    "'''\n",
    "class Vehicle:\n",
    "    def __init__(self, brand, model, price):\n",
    "        self.brand = brand\n",
    "        self.model = model\n",
    "        self.price = price\n",
    "\n",
    "    def show(self):\n",
    "        print('Details:', self.brand, self.model, 'Price:', self.price)\n",
    "\n",
    "    def max_speed(self):\n",
    "        print('Vehicle max speed is 160')\n",
    "\n",
    "    def gear_system(self):\n",
    "        print('Vehicle has 6 shifter gearbox')\n",
    "\n",
    "# inherit from vehicle class\n",
    "class Car(Vehicle):\n",
    "    def max_speed(self):\n",
    "        print('Car max speed is 260')\n",
    "\n",
    "    def gear_system(self):\n",
    "        print('Car has Automatic Transmission')\n",
    "\n",
    "# Car Object\n",
    "car = Car('Audi', 'R8', 9000000)\n",
    "car.show()\n",
    "# call methods from Car class\n",
    "car.max_speed()\n",
    "car.gear_system()\n",
    "\n",
    "# Vehicle Object\n",
    "vehicle = Vehicle('Nissan', 'Magnite', 550000)\n",
    "vehicle.show()\n",
    "# call method from a Vehicle class\n",
    "vehicle.max_speed()\n",
    "vehicle.gear_system()"
   ]
  },
  {
   "cell_type": "code",
   "execution_count": 31,
   "id": "833a669e-6b1e-4911-b826-7164c1782ae6",
   "metadata": {},
   "outputs": [
    {
     "name": "stdout",
     "output_type": "stream",
     "text": [
      "10\n",
      "6\n",
      "12\n",
      "17.204\n",
      "Length of string: 11\n",
      "Length of list: 5\n",
      "Length of dict: 2\n"
     ]
    }
   ],
   "source": [
    "# 5. How is polymorphism different from method overloading in Python? Provide examples for both.\n",
    "'''\n",
    "The word polymorphism means having many forms. In programming, polymorphism means the same function name (but different signatures) being used for different types. \n",
    "The key difference is the data types and number of arguments used in function. \n",
    "\n",
    "Method Overloading - Two or more methods have the same name but different numbers of parameters or different types of parameters, or both. \n",
    "These methods are called overloaded methods and this is called method overloading.\n",
    "The problem with method overloading in Python is that we may overload the methods but can only use the latest defined method. \n",
    "'''\n",
    "# Exampple of method overloading\n",
    "# Example 1\n",
    "def product(a,b):\n",
    "    print(a+b)\n",
    "    \n",
    "def product(a,b,c):\n",
    "    print(a+b+c)\n",
    "    \n",
    "# Uncommenting the below line shows an error\n",
    "# product(4, 5)\n",
    "    \n",
    "# Example 2\n",
    "product(2,3,5)\n",
    "\n",
    "#pip install multipledispatch\n",
    "\n",
    "from multipledispatch import dispatch\n",
    "\n",
    "# passing one parameter\n",
    "@dispatch(int, int)\n",
    "def product(first, second):\n",
    "    result = first*second\n",
    "    print(result)\n",
    "\n",
    "# passing two parameters\n",
    "\n",
    "\n",
    "@dispatch(int, int, int)\n",
    "def product(first, second, third):\n",
    "    result = first * second * third\n",
    "    print(result)\n",
    "\n",
    "# you can also pass data type of any value as per requirement\n",
    "\n",
    "\n",
    "@dispatch(float, float, float)\n",
    "def product(first, second, third):\n",
    "    result = first * second * third\n",
    "    print(result)\n",
    "\n",
    "\n",
    "# calling product method with 2 arguments\n",
    "product(2, 3) # this will give output of 6\n",
    "\n",
    "# calling product method with 3 arguments but all int\n",
    "product(2, 3, 2) # this will give output of 12\n",
    "\n",
    "# calling product method with 3 arguments but all float\n",
    "product(2.2, 3.4, 2.3) # this will give output of 17.985999999999997\n",
    "\n",
    "# Example of polymorphism\n",
    "mystr = 'Programming'\n",
    "print('Length of string:', len(mystr))\n",
    "\n",
    "mylist = [1, 2, 3, 4, 5]\n",
    "print('Length of list:', len(mylist))\n",
    "\n",
    "mydict = {1: 'One', 2: 'Two'}\n",
    "print('Length of dict:', len(mydict))"
   ]
  },
  {
   "cell_type": "code",
   "execution_count": 45,
   "id": "9ca7fbbe-5336-4267-bd51-f188e8de1955",
   "metadata": {},
   "outputs": [
    {
     "name": "stdout",
     "output_type": "stream",
     "text": [
      "This is animal class\n",
      "This is Dog class\n",
      "This is Cat class\n",
      "This is Bird class\n"
     ]
    }
   ],
   "source": [
    "# 6. Create a Python class called `Animal` with a method `speak()`. Then, create child classes like `Dog`, `Cat`, and `Bird`, each with their own `speak()` method. Demonstrate polymorphism by calling the `speak()` method\n",
    "# on objects of different subclasses.\n",
    "class Animal:\n",
    "    def speak(self):\n",
    "        print(\"This is animal class\")\n",
    "class Dog:\n",
    "      def speak(self):\n",
    "        print(\"This is Dog class\")\n",
    "class Cat:\n",
    "      def speak(self):\n",
    "        print(\"This is Cat class\")\n",
    "class Bird:\n",
    "      def speak(self):\n",
    "        print(\"This is Bird class\")\n",
    "    \n",
    "def print_all(obj):\n",
    "    obj.speak()\n",
    "\n",
    "animal = Animal()\n",
    "dog = Dog()\n",
    "cat = Cat()\n",
    "bird = Bird()\n",
    "print_all(animal)\n",
    "print_all(dog)\n",
    "print_all(cat)\n",
    "print_all(bird)"
   ]
  },
  {
   "cell_type": "code",
   "execution_count": 50,
   "id": "de370955-1449-41fc-981a-7fabcfd9854d",
   "metadata": {},
   "outputs": [
    {
     "name": "stdout",
     "output_type": "stream",
     "text": [
      "Woof!\n",
      "Meow!\n"
     ]
    }
   ],
   "source": [
    "# 7. Discuss the use of abstract methods and classes in achieving polymorphism in Python. Provide an example using the `abc` module.\n",
    "'''\n",
    "Polymorphism is the ability of an object to take on many forms. \n",
    "With abstract classes, polymorphism is achieved through the implementation of the abstract methods in the subclasses. \n",
    "Each subclass can provide a different implementation, allowing for a variety of behaviors.\n",
    "'''\n",
    "from abc import ABC,abstractmethod\n",
    "class AbstractAnimal:\n",
    "    @abstractmethod\n",
    "    def make_sound(self):\n",
    "        pass\n",
    "class Dog(AbstractAnimal):\n",
    "    def make_sound(self):\n",
    "        print('Woof!')\n",
    "class Cat(AbstractAnimal):\n",
    "    def make_sound(self):\n",
    "        print('Meow!')\n",
    "dog = Dog()\n",
    "cat = Cat()\n",
    "dog.make_sound()\n",
    "cat.make_sound()"
   ]
  },
  {
   "cell_type": "code",
   "execution_count": 63,
   "id": "f45be9e6-c7c4-4c50-b545-fe2f82dd9ba2",
   "metadata": {},
   "outputs": [
    {
     "name": "stdout",
     "output_type": "stream",
     "text": [
      "From class Car\n",
      "From class Bicycle\n",
      "From class boat\n"
     ]
    }
   ],
   "source": [
    "# 8. Create a Python class hierarchy for a vehicle system (e.g., car, bicycle, boat) and implement a polymorphic \n",
    "# `start()` method that prints a message specific to each vehicle type.\n",
    "\n",
    "class Car:\n",
    "    def start(self):\n",
    "        print(\"From class Car\")\n",
    "        \n",
    "class Bicycle:\n",
    "    def start(self):\n",
    "        print(\"From class Bicycle\")\n",
    "               \n",
    "class Boat:\n",
    "    def start(self):\n",
    "        print(\"From class boat\")\n",
    "        \n",
    "def print123(obj):\n",
    "    obj.start()\n",
    "    \n",
    "car = Car()\n",
    "bicycle = Bicycle()\n",
    "boat = Boat()\n",
    "\n",
    "print123(car)\n",
    "print123(bicycle)\n",
    "print123(boat)"
   ]
  },
  {
   "cell_type": "code",
   "execution_count": null,
   "id": "fcd6a6ba-190d-46b7-af56-516b70e9da13",
   "metadata": {},
   "outputs": [],
   "source": [
    "# 9. Explain the significance of the `isinstance()` and `issubclass()` functions in Python polymorphism.\n",
    "'''\n",
    "Syntax - isinstance(object,class)\n",
    "It checks if an object is of a specific class type\n",
    "It can check if the object belongs to a class and its subclasses\n",
    "\n",
    "Syntax - isinstance(object,class)\n",
    "This method is used to check if a class is a subclass of a different class. It will check if class is a subclass of another class classinfo or a tuple of classes. \n",
    "Note that for both methods, the second parameter is a single class or a tuple of classes.\n",
    "'''"
   ]
  },
  {
   "cell_type": "code",
   "execution_count": 64,
   "id": "b79b06f3-6c72-49ed-87b3-a89215716384",
   "metadata": {},
   "outputs": [
    {
     "name": "stdout",
     "output_type": "stream",
     "text": [
      "Woof!\n",
      "Meow!\n"
     ]
    }
   ],
   "source": [
    "# 10. What is the role of the `@abstractmethod` decorator in achieving polymorphism in Python? Provide an example.\n",
    "from abc import ABC,abstractmethod\n",
    "class AbstractAnimal:\n",
    "    @abstractmethod\n",
    "    def make_sound(self):\n",
    "        pass\n",
    "class Dog(AbstractAnimal):\n",
    "    def make_sound(self):\n",
    "        print('Woof!')\n",
    "class Cat(AbstractAnimal):\n",
    "    def make_sound(self):\n",
    "        print('Meow!')\n",
    "dog = Dog()\n",
    "cat = Cat()\n",
    "dog.make_sound()\n",
    "cat.make_sound()"
   ]
  },
  {
   "cell_type": "code",
   "execution_count": 68,
   "id": "7f7d0d60-6d5b-43cc-b12c-d52aa7f799a9",
   "metadata": {},
   "outputs": [
    {
     "name": "stdout",
     "output_type": "stream",
     "text": [
      "Area of circle 12.56\n",
      "Area of rectangle 25\n",
      "Area of traingle 3.0\n"
     ]
    }
   ],
   "source": [
    "# 11. Create a Python class called `Shape` with a polymorphic method `area()` \n",
    "# that calculates the area of different shapes (e.g., circle, rectangle, triangle).\n",
    "class circle:\n",
    "    def __init__(self,radius):\n",
    "        self.radius = radius\n",
    "    def calculate_area(self):\n",
    "        area = 3.14 * self.radius  * self.radius \n",
    "        print(\"Area of circle\",area)\n",
    "class rectangle:\n",
    "    def __init__(self,length,breadth):\n",
    "        self.length = length\n",
    "        self.breadth = breadth\n",
    "    def calculate_area(self):\n",
    "        area =  self.length * self.breadth\n",
    "        print(\"Area of rectangle\",area)\n",
    "class traingle:\n",
    "    def __init__(self,base,height):\n",
    "        self.base = base\n",
    "        self.height = height\n",
    "    def calculate_area(self):\n",
    "        area = 0.5 * self.base *self.height\n",
    "        print(\"Area of traingle\",area)\n",
    "        \n",
    "circle1 = circle(2)\n",
    "rectangle1 = rectangle(5,5)\n",
    "traingle1 = traingle(2,3)\n",
    "for a in (circle1,rectangle1,traingle1):\n",
    "    a.calculate_area()"
   ]
  },
  {
   "cell_type": "code",
   "execution_count": null,
   "id": "a7e1000c-59cb-467e-bb52-bf49593f4f1f",
   "metadata": {},
   "outputs": [],
   "source": [
    "# 12. Discuss the benefits of polymorphism in terms of code reusability and flexibility in Python programs.\n",
    "'''\n",
    "Objects in object-oriented programming must take several shapes. \n",
    "This characteristic is very useful in software development. A single action can be done in multiple ways because to polymorphism. This notion is frequently used while discussing loose coupling, dependency injection, and interfaces, among other things. Polymorphism has the following advantages:\n",
    "\n",
    "It is beneficial to reuse the codes.\n",
    "The codes are simple to debug.\n",
    "A single variable can store multiple data types.\n",
    "'''\n"
   ]
  },
  {
   "cell_type": "code",
   "execution_count": 71,
   "id": "ec4e5934-1525-45ed-bdd3-beb7d9a9f811",
   "metadata": {},
   "outputs": [
    {
     "name": "stdout",
     "output_type": "stream",
     "text": [
      "Abstract Base Class\n",
      "subclass \n"
     ]
    }
   ],
   "source": [
    "# 13. Explain the use of the `super()` function in Python polymorphism. How does it help call methods of parent classes?\n",
    "\n",
    "# Python program invoking a \n",
    "# method using super() \n",
    "\n",
    "import abc \n",
    "from abc import ABC, abstractmethod \n",
    "\n",
    "class R(ABC): \n",
    "    def rk(self): \n",
    "        print(\"Abstract Base Class\") \n",
    "\n",
    "class K(R):\n",
    "    def rk(self): \n",
    "        super().rk() \n",
    "        print(\"subclass \") \n",
    "\n",
    "r = K() \n",
    "r.rk() "
   ]
  },
  {
   "cell_type": "code",
   "execution_count": 5,
   "id": "58528884-64da-4d07-a97e-f18c9db6acb5",
   "metadata": {},
   "outputs": [
    {
     "name": "stdout",
     "output_type": "stream",
     "text": [
      "I am of class savings\n",
      "I am of class checking\n",
      "I am of class credit_card\n"
     ]
    }
   ],
   "source": [
    "# 14. Create a Python class hierarchy for a banking system with various account types (e.g., savings, checking, credit card) \n",
    "# and demonstrate polymorphism by implementing a common `withdraw()` method.\n",
    "class savings:\n",
    "    def withdraw(self):\n",
    "        print(\"I am of class savings\")\n",
    "        \n",
    "class checking:\n",
    "    def withdraw(self):\n",
    "        print(\"I am of class checking\")\n",
    "        \n",
    "class credit_card:\n",
    "    def withdraw(self):\n",
    "        print(\"I am of class credit_card\")\n",
    "def print_all1(obj):\n",
    "    obj.withdraw()\n",
    "\n",
    "savings1 = savings()\n",
    "print_all1(savings1)\n",
    "\n",
    "checking1 = checking()\n",
    "print_all1(checking1)\n",
    "\n",
    "credit_card1 = credit_card()\n",
    "print_all1(credit_card1)"
   ]
  },
  {
   "cell_type": "code",
   "execution_count": 115,
   "id": "d3f939c4-1995-4b11-a56e-05d81a62ba5f",
   "metadata": {},
   "outputs": [
    {
     "name": "stdout",
     "output_type": "stream",
     "text": [
      "15 strchedd\n",
      "20 chechecheche\n"
     ]
    }
   ],
   "source": [
    "# 15. Describe the concept of operator overloading in Python and how it relates to polymorphism. Provide\n",
    "# examples using operators like `+` and `*\n",
    "'''\n",
    "Operator Overloading means giving extended meaning beyond their predefined operational meaning. For example operator + is used to add two integers as well as join two strings and merge two lists. \n",
    "It is achievable because ‘+’ operator is overloaded by int class and str class.\n",
    "\n",
    "Consider that we have two objects which are a physical representation of a class (user-defined data type) and we have to add two objects with binary ‘+’ operator it throws an error, because compiler don’t know how to add two objects. \n",
    "So we define a method for an operator and that process is called operator overloading.\n",
    "We can overload all existing operators but we can’t create a new operator.\n",
    "'''\n",
    "# + Operator\n",
    "\n",
    "class B:\n",
    "    def __init__(self,b,c):\n",
    "        self.b = b\n",
    "        self.c = c\n",
    "        \n",
    "    def __add__(self,other):\n",
    "        return B(self.b + other.b , self.c + other.c)\n",
    "        \n",
    "ob1 = B(5,\"str\")\n",
    "ob2 = B(4,\"che\")\n",
    "ob3 = B(6,\"dd\")\n",
    "c = ob1 + ob2 + ob3\n",
    "print(c.b,c.c)\n",
    "\n",
    "\n",
    "# * Operator\n",
    "class B1:\n",
    "    def __init__(self,e,f):\n",
    "        self.e = e\n",
    "        self.f = f\n",
    "        \n",
    "    def __mul__(self,other):\n",
    "        return B1(self.e * other.e , self.f * other.f)\n",
    "        \n",
    "ob1 = B1(5,4)\n",
    "ob2 = B1(4,\"che\")\n",
    "f = ob1 * ob2\n",
    "print(f.e,f.f)"
   ]
  },
  {
   "cell_type": "code",
   "execution_count": 121,
   "id": "7565723f-dd0c-46a8-bd2c-21de07f1ccba",
   "metadata": {},
   "outputs": [
    {
     "data": {
      "text/plain": [
       "'\\nDyanmic polymorphim is called at runtime. It is achieved through method overriding\\n'"
      ]
     },
     "execution_count": 121,
     "metadata": {},
     "output_type": "execute_result"
    }
   ],
   "source": [
    "# 16. What is dynamic polymorphism, and how is it achieved in Python?\n",
    "'''\n",
    "Dyanmic polymorphim is called at runtime. It is achieved through method overriding\n",
    "'''"
   ]
  },
  {
   "cell_type": "code",
   "execution_count": 131,
   "id": "b7545aea-54bd-45d0-a17e-392ac1a9f0f2",
   "metadata": {},
   "outputs": [
    {
     "name": "stdout",
     "output_type": "stream",
     "text": [
      "My salary is x\n",
      "My Salary is y\n",
      "My Salary is z\n"
     ]
    }
   ],
   "source": [
    "# 17. Create a Python class hierarchy for employees in a company (e.g., manager, developer, designer) and implement polymorphism \n",
    "# through a common `calculate_salary()` method.\n",
    "class Manager:\n",
    "    def calculate_salary(self):\n",
    "        print(\"My salary is x\")\n",
    "        \n",
    "class Developer:\n",
    "    def calculate_salary(self):\n",
    "        print(\"My Salary is y\")\n",
    "        \n",
    "class Designer:\n",
    "    def calculate_salary(self):\n",
    "        print(\"My Salary is z\")\n",
    "        \n",
    "manager1 = Manager()\n",
    "manager1.calculate_salary()\n",
    "\n",
    "developer1 = Developer()\n",
    "developer1.calculate_salary()\n",
    "\n",
    "designer1 = Designer()\n",
    "designer1.calculate_salary()"
   ]
  },
  {
   "cell_type": "code",
   "execution_count": null,
   "id": "b847abdf-fac2-4780-a020-e95b5a8e8d91",
   "metadata": {},
   "outputs": [],
   "source": [
    "# 18. Discuss the concept of function pointers and how they can be used to achieve polymorphism in Python.\n",
    "'''\n",
    "1. What are function pointers in Python? Function pointers in Python are essentially variables that hold references to functions. \n",
    "They are used to pass functions as arguments to other functions, or to store functions in data structures like arrays or dictionaries. \n",
    "They are commonly used in situations where the specific function to be called is not known until runtime. \n",
    "\n",
    "2. How are function pointers declared in Python? \n",
    "In Python, function pointers are declared using the def keyword, followed by the function name and a set of parentheses. \n",
    "For example: def my_function(): The function pointer can then be assigned to a variable or passed as an argument to another function.\n",
    "'''"
   ]
  },
  {
   "cell_type": "code",
   "execution_count": null,
   "id": "71fa201b-9ffe-4ed3-b672-90abdc5e5c47",
   "metadata": {},
   "outputs": [],
   "source": [
    "# 19. Explain the role of interfaces and abstract classes in polymorphism, drawing comparisons between them.\n",
    "'''\n",
    "1.\tAn abstract features developer’s class can consist of abstract as well as concrete methods\tAll methods of an interface are abstract\n",
    "2.\tIt is used when there are some common feature shared by all objects\tIt is used when all the feature need to be implemented differently for different objects\n",
    "3.\tIts developer responsibility to create a child class for the features of an abstract class\tAny 3rd person will responsible for creating a child class\n",
    "4.\tIt is comparatively fast\tIt is comparatively slow\n",
    "'''"
   ]
  },
  {
   "cell_type": "code",
   "execution_count": 141,
   "id": "335d9057-f40f-4b07-b4d6-6bbe0f863f5e",
   "metadata": {},
   "outputs": [
    {
     "name": "stdout",
     "output_type": "stream",
     "text": [
      "They eat fish\n",
      "They chirps\n",
      "They roar\n"
     ]
    }
   ],
   "source": [
    "# 20. Create a Python class for a zoo simulation, demonstrating polymorphism with different animal types (e.g., mammals, birds, reptiles) \n",
    "# and their behavior (e.g., eating, sleeping, making sounds).\n",
    "class mammals:\n",
    "    def making_sounds(self):\n",
    "        print(\"They eat fish\")\n",
    "class birds:\n",
    "    def making_sounds(self):\n",
    "        print(\"They chirps\")      \n",
    "class reptiles:\n",
    "    def making_sounds(self):\n",
    "        print(\"They roar\")\n",
    "mammals1 = mammals()\n",
    "birds1 = birds()\n",
    "reptiles1 = reptiles()\n",
    "for obj in (mammals1,birds1,reptiles1):\n",
    "    obj.making_sounds()"
   ]
  },
  {
   "cell_type": "code",
   "execution_count": null,
   "id": "18d18ca7-1e79-41ae-ba2e-551e6dfe47d8",
   "metadata": {},
   "outputs": [],
   "source": [
    "# 1. What is abstraction in Python, and how does it relate to object-oriented programming?\n",
    "'''\n",
    "To form an abstract class in Python, it must inherit ABC class that is defined in the abc module. \n",
    "This module is available in Python's standard library. \n",
    "Moreover, the class must have at least one abstract method. Again, an abstract method is the one which cannot be called, but can be overridden. \n",
    "You need to decorate it with @abstractmethod decorator.\n",
    "To form an abstract class in Python, it must inherit ABC class that is defined in the abc module. This module is available in Python's standard library. Moreover, the class must have at least one abstract method. \n",
    "Again, an abstract method is the one which cannot be called, but can be overridden. \n",
    "You need to decorate it with @abstractmethod decorator.\n",
    "'''"
   ]
  },
  {
   "cell_type": "code",
   "execution_count": null,
   "id": "591a10f7-9707-4f39-9114-47103c5d8637",
   "metadata": {},
   "outputs": [],
   "source": [
    "# 2. Describe the benefits of abstraction in terms of code organization and complexity reduction.\n",
    "'''\n",
    "Advantages of Abstraction\n",
    "It reduces the complexity of viewing the things.\n",
    "\n",
    "Helps to increase security of an application or program as only important details are provided to the user.\n",
    "\n",
    "Avoids code duplication and increases reusability.\n",
    "\n",
    "Can change internal implementation of class independently without affecting the user.\n",
    "'''"
   ]
  },
  {
   "cell_type": "code",
   "execution_count": 144,
   "id": "bc502557-a5e8-4cb9-9923-2cc65476f1ed",
   "metadata": {},
   "outputs": [
    {
     "name": "stdout",
     "output_type": "stream",
     "text": [
      "Area of circle 50.24\n",
      "Area of circle 20\n"
     ]
    }
   ],
   "source": [
    "# 3. Create a Python class called `Shape` with an abstract method `calculate_area()`. \n",
    "# Then, create child classes (e.g., `Circle`, `Rectangle`) that implement the `calculate_area()` method. \n",
    "# Provide an example of using these classes.\n",
    "from abc import ABC,abstractmethod\n",
    "class Shape(ABC):\n",
    "    @abstractmethod\n",
    "    def calculate_area(self):\n",
    "        pass\n",
    "class Circle(Shape):\n",
    "    def calculate_area(self,radius):\n",
    "        print(\"Area of circle\", 3.14*radius*radius)\n",
    "class Rectangle(Shape):\n",
    "    def calculate_area(self,length,breadth):\n",
    "        print(\"Area of circle\",length * breadth)\n",
    "circle = Circle()\n",
    "circle.calculate_area(4)\n",
    "\n",
    "rectangle = Rectangle()\n",
    "rectangle.calculate_area(4,5)"
   ]
  },
  {
   "cell_type": "code",
   "execution_count": 155,
   "id": "f749e55a-27c2-4dac-898e-b382c77e2c2d",
   "metadata": {},
   "outputs": [],
   "source": [
    "# 4. Explain the concept of abstract classes in Python and how they are defined using the `abc` module. Provide\n",
    "# an example\n",
    "'''\n",
    "To form an abstract class in Python, it must inherit ABC class that is defined in the abc module. \n",
    "This module is available in Python's standard library. Moreover, the class must have at least one abstract method. \n",
    "Again, an abstract method is the one which cannot be called, but can be overridden. \n",
    "You need to decorate it with @abstractmethod decorator.\n",
    "'''\n",
    "from abc import ABC, abstractmethod\n",
    "class demo(ABC):\n",
    "    @abstractmethod\n",
    "    def method1(self):\n",
    "        print (\"abstract method\")\n",
    "        \n",
    "    def method2(self):\n",
    "        print (\"concrete method\")\n",
    "        \n"
   ]
  },
  {
   "cell_type": "code",
   "execution_count": null,
   "id": "3c98862d-9d6a-419e-b121-f48310879030",
   "metadata": {},
   "outputs": [],
   "source": [
    "# 5. How do abstract classes differ from regular classes in Python? Discuss their use cases.\n",
    "'''\n",
    "Abstract classes are similar to normal classes, with the difference that they can include abstract methods, which are methods without a body. \n",
    "Abstract classes cannot be instantiated.\n",
    "\n",
    "Concrete classes contain only concrete (normal) methods whereas abstract classes may contain both concrete methods and abstract methods.\n",
    "\n",
    "The concrete class provides an implementation of abstract methods, the abstract base class can also provide an implementation by invoking the methods via super()\n",
    "'''\n"
   ]
  },
  {
   "cell_type": "code",
   "execution_count": 161,
   "id": "a84384b3-2f74-4d37-834f-c4474d9e0f3e",
   "metadata": {},
   "outputs": [
    {
     "name": "stdout",
     "output_type": "stream",
     "text": [
      "Your balance is 84000\n",
      "Your balance is 34000\n"
     ]
    }
   ],
   "source": [
    "# 6. Create a Python class for a bank account and demonstrate abstraction by hiding the account balance and\n",
    "# providing methods to deposit and withdraw funds\n",
    "from abc import ABC,abstractmethod\n",
    "class bankaccount(ABC):\n",
    "    def __init__(self):\n",
    "        self.accountbalance = 50000\n",
    "        \n",
    "    def add_money(self,money):\n",
    "        self.accountbalance = self.accountbalance + money\n",
    "        \n",
    "    def remove_money(self,money):\n",
    "        self.accountbalance = self.accountbalance - money\n",
    "    \n",
    "    @abstractmethod\n",
    "    def deposit(self):\n",
    "        pass\n",
    "    @abstractmethod\n",
    "    def withdraw_funds(self):\n",
    "        pass\n",
    "    \n",
    "class trans(bankaccount):\n",
    "    def deposit(self,money):\n",
    "        super().add_money(money)\n",
    "        print(\"Your balance is\",self.accountbalance)\n",
    "    def withdraw(self,money):\n",
    "        super().remove_money(money)\n",
    "        print(\"Your balance is\",self.accountbalance)\n",
    "        \n",
    "trans1 = trans()\n",
    "trans1.deposit(34000)\n",
    "trans1.withdraw(50000)"
   ]
  },
  {
   "cell_type": "code",
   "execution_count": null,
   "id": "6ac5b2b6-0e46-4961-8a7a-1b70a9c5423e",
   "metadata": {},
   "outputs": [],
   "source": [
    "# 7. Discuss the concept of interface classes in Python and their role in achieving abstraction.\n",
    "'''\n",
    "1.a\tAn abstract features developer’s class can consist of abstract as well as concrete methods\t\n",
    "1.b All methods of an interface are abstract\n",
    "2.a\tIt is used when there are some common feature shared by all objects\t\n",
    "2.b It is used when all the feature need to be implemented differently for different objects\n",
    "3.a\tIts developer responsibility to create a child class for the features of an abstract class\t\n",
    "3.b Any 3rd person will responsible for creating a child class\n",
    "4.a\tIt is comparatively fast\t\n",
    "4.b It is comparatively slow\n",
    "'''"
   ]
  },
  {
   "cell_type": "code",
   "execution_count": 1,
   "id": "8716044d-a0ca-4c67-97f2-75b500d3a2ae",
   "metadata": {},
   "outputs": [
    {
     "name": "stdout",
     "output_type": "stream",
     "text": [
      "I eat other anumals\n",
      "I sleep during day\n"
     ]
    }
   ],
   "source": [
    "# 8. Create a Python class hierarchy for animals and implement abstraction by defining common methods (e.g., `eat()`, `sleep()`) in an abstract base class.\n",
    "from abc import ABC,abstractmethod\n",
    "class animal(ABC):\n",
    "    @abstractmethod\n",
    "    def eat():\n",
    "        pass\n",
    "    @abstractmethod\n",
    "    def sleep():\n",
    "        pass\n",
    "class lion(animal):\n",
    "    def eat(self):\n",
    "        print(\"I eat other anumals\")\n",
    "        \n",
    "    def sleep(self):\n",
    "        print(\"I sleep during day\")\n",
    "        \n",
    "lion1 = lion()\n",
    "lion1.eat()\n",
    "lion1.sleep()"
   ]
  },
  {
   "cell_type": "code",
   "execution_count": 7,
   "id": "c388e61c-9202-48df-b805-44c220fe73e2",
   "metadata": {},
   "outputs": [
    {
     "name": "stdout",
     "output_type": "stream",
     "text": [
      "\n",
      "    1.Display Book\n",
      "    2.Borrow Book\n",
      "    3.Return Book\n",
      "\n"
     ]
    },
    {
     "name": "stdin",
     "output_type": "stream",
     "text": [
      "Enter Your Choice :  3\n",
      "Enter Book Name To Return :  dwegfwge\n"
     ]
    },
    {
     "name": "stdout",
     "output_type": "stream",
     "text": [
      "You have returnred the book\n",
      "['c++', 'java', 'DSA', 'dwegfwge']\n",
      "\n",
      "    1.Display Book\n",
      "    2.Borrow Book\n",
      "    3.Return Book\n",
      "\n"
     ]
    },
    {
     "name": "stdin",
     "output_type": "stream",
     "text": [
      "Enter Your Choice :  4\n"
     ]
    },
    {
     "name": "stdout",
     "output_type": "stream",
     "text": [
      "Thank You come again\n"
     ]
    }
   ],
   "source": [
    "# 9. Explain the significance of encapsulation in achieving abstraction. Provide examples.\n",
    "'''\n",
    "Data abstraction and encapsulation are synonymous as data abstraction is achieved through encapsulation. \n",
    "Abstraction is used to hide internal details and show only functionalities. Abstracting something means to give names to things, so that the name captures the basic idea of what a function or a whole program does. Encapsulation is used to restrict access to methods and variables. \n",
    "In encapsulation, code and data are wrapped together within a single unit from being modified by accident.\n",
    "'''\n",
    "class Library:\n",
    "    def __init__(self,books):\n",
    "        self.books = books\n",
    "        \n",
    "    def display_books(self):\n",
    "        print(\"Available Books\")\n",
    "        for book in self.books:\n",
    "            print(book)\n",
    "            \n",
    "    def borrow_books(self,borrow_book):\n",
    "        if borrow_book in self.books:\n",
    "            self.books.remove(borrow_book)\n",
    "            print(\"Get your book now\",borrow_book)\n",
    "                \n",
    "        else:\n",
    "            print(\"Book not availabel\")\n",
    "            \n",
    "    def return_books(self,return_book):\n",
    "        print(\"You have returnred the book\")\n",
    "        self.books.append(return_book)\n",
    "        print(self.books)\n",
    "\n",
    "books = [\"c++\",\"java\",\"DSA\"]\n",
    "lib = Library(books)  \n",
    "msg = \"\"\"\n",
    "    1.Display Book\n",
    "    2.Borrow Book\n",
    "    3.Return Book\n",
    "\"\"\"\n",
    "while(True):\n",
    "    print(msg)\n",
    "    ch = int(input(\"Enter Your Choice : \"))\n",
    "    if ch == 1:\n",
    "        lib.display_books()\n",
    "        \n",
    "    elif ch == 2:\n",
    "        book = input(\"Enter Book Name To Borrow : \")\n",
    "        lib.borrow_books(book.lower())\n",
    "        \n",
    "    elif ch == 3:\n",
    "        book = input(\"Enter Book Name To Return : \")\n",
    "        lib.return_books(book)\n",
    "        \n",
    "    else:\n",
    "        print(\"Thank You come again\")\n",
    "        break"
   ]
  },
  {
   "cell_type": "code",
   "execution_count": 22,
   "id": "aeee8b81-8f19-42dd-b8bd-8b24098a6a74",
   "metadata": {},
   "outputs": [
    {
     "name": "stdout",
     "output_type": "stream",
     "text": [
      "Can't instantiate abstract class parent with abstract method get_geeks\n",
      "child class\n"
     ]
    }
   ],
   "source": [
    "# 10. What is the purpose of abstract methods, and how do they enforce abstraction in Python classes?\n",
    "'''\n",
    "y default, Python does not provide abstract classes. \n",
    "Python comes with a module that provides the base for defining Abstract Base classes(ABC) and that module name is ABC.\n",
    "\n",
    "ABC works by decorating methods of the base class as an abstract and then registering concrete classes as implementations of the abstract base. \n",
    "A method becomes abstract when decorated with the keyword @abstractmethod.\n",
    "'''\n",
    "import abc \n",
    "from abc import ABC, abstractmethod \n",
    "\n",
    "class parent(ABC): \n",
    "\t@abc.abstractproperty \n",
    "\tdef get_geeks(self): \n",
    "\t\treturn \"parent class\"\n",
    "class child(parent): \n",
    "\t\n",
    "\t@property\n",
    "\tdef get_geeks(self): \n",
    "\t\treturn \"child class\"\n",
    "\n",
    "\n",
    "try: \n",
    "\tr =parent() \n",
    "\tprint( r.geeks) \n",
    "except Exception as err: \n",
    "\tprint (err) \n",
    "\n",
    "r = child() \n",
    "print (r.get_geeks) \n"
   ]
  },
  {
   "cell_type": "code",
   "execution_count": 17,
   "id": "2358ca89-7488-4fc3-94bf-237e49e89b94",
   "metadata": {},
   "outputs": [
    {
     "name": "stdout",
     "output_type": "stream",
     "text": [
      "Car will start\n",
      "car will stop\n"
     ]
    }
   ],
   "source": [
    "# 11. Create a Python class for a vehicle system and demonstrate abstraction \n",
    "# by defining common methods (e.g., `start()`, `stop()`) in an abstract base class.\n",
    "from abc import ABC,abstractmethod\n",
    "class vehicle(ABC):\n",
    "    @abstractmethod\n",
    "    def start(self):\n",
    "        pass\n",
    "    \n",
    "    def stop(self):\n",
    "        print(\"car will stop\")\n",
    "        \n",
    "class car(vehicle):\n",
    "    def start(self):\n",
    "        print(\"Car will start\")\n",
    "        \n",
    "    def stop1(self):\n",
    "        super().stop()\n",
    "        \n",
    "car1 = car()\n",
    "car1.start()\n",
    "\n",
    "car1.stop1()"
   ]
  },
  {
   "cell_type": "code",
   "execution_count": 23,
   "id": "57233407-7d01-47d7-aec3-aa765d27334b",
   "metadata": {},
   "outputs": [],
   "source": [
    "# 12. Describe the use of abstract properties in Python and how they can be employed in abstract classes.\n",
    "'''\n",
    "Abstract properties are attributes defined in an abstract base class that must be implemented as properties (getter and/or setter methods) by subclasses. \n",
    "You can use the @property decorator to define abstract properties.\n",
    "'''\n",
    "from abc import ABC,abstractmethod\n",
    "class Shape(ABC):\n",
    "    @property\n",
    "    @abstractmethod\n",
    "    def area(self):\n",
    "        pass\n",
    "\n",
    "class Circle(Shape):\n",
    "    def __init__(self, radius):\n",
    "        self._radius = radius\n",
    "    \n",
    "    @property\n",
    "    def area(self):\n",
    "        return 3.14 * self._radius * self._radius\n",
    "\n",
    "class Rectangle(Shape):\n",
    "    def __init__(self, length, width):\n",
    "        self._length = length\n",
    "        self._width = width\n",
    "    \n",
    "    @property\n",
    "    def area(self):\n",
    "        return self._length * self._width"
   ]
  },
  {
   "cell_type": "code",
   "execution_count": 25,
   "id": "e74ff6b4-d252-4771-885a-646528f4e89c",
   "metadata": {},
   "outputs": [
    {
     "name": "stdout",
     "output_type": "stream",
     "text": [
      "My salary is x\n",
      "My Salary is y\n",
      "My Salary is z\n"
     ]
    }
   ],
   "source": [
    "# 13. Create a Python class hierarchy for employees in a company (e.g., manager, developer, designer) \n",
    "# and implement abstraction by defining a common `get_salary()` method.\n",
    "from abc import ABC,abstractmethod\n",
    "class Employees:\n",
    "    @abstractmethod\n",
    "    def get_salary(self):\n",
    "        pass\n",
    "\n",
    "class Manager(Employees):\n",
    "    def get_salary(self):\n",
    "        print(\"My salary is x\")\n",
    "        \n",
    "class Developer(Employees):\n",
    "    def get_salary(self):\n",
    "        print(\"My Salary is y\")\n",
    "        \n",
    "class Designer(Employees):\n",
    "    def get_salary(self):\n",
    "        print(\"My Salary is z\")\n",
    "        \n",
    "manager1 = Manager()\n",
    "manager1.get_salary()\n",
    "\n",
    "developer1 = Developer()\n",
    "developer1.get_salary()\n",
    "\n",
    "designer1 = Designer()\n",
    "designer1.get_salary()"
   ]
  },
  {
   "cell_type": "code",
   "execution_count": null,
   "id": "eb063e21-165f-4635-b2c5-082c16099f45",
   "metadata": {},
   "outputs": [],
   "source": [
    "# 14. Discuss the differences between abstract classes and concrete classes in Python, including their instantiation.\n",
    "'''\n",
    "Concrete classes contain only concrete (normal) methods whereas abstract classes may contain both concrete methods and abstract methods.\n",
    "The concrete class provides an implementation of abstract methods, the abstract base class can also provide an implementation by invoking the methods via super()\n",
    "Abstract classes are incomplete because they have methods that have nobody. If Python allows creating an object for abstract classes then using that object if anyone calls the abstract method, but there is no actual implementation to invoke\n",
    "When we create an object for the abstract class it raises an error. \n",
    "'''\n"
   ]
  },
  {
   "cell_type": "code",
   "execution_count": null,
   "id": "25b10dfa-07d1-407a-a107-d55c91bec511",
   "metadata": {},
   "outputs": [],
   "source": [
    "# 15. Explain the concept of abstract data types (ADTs) and their role in achieving abstraction in Python\n",
    "\n",
    "'''\n",
    "Abstract Data type (ADT) is a type (or class) for objects whose behavior is defined by a set of values and a set of operations. \n",
    "The definition of ADT only mentions what operations are to be performed but not how these operations will be implemented. It does not specify how data will be organized in memory and what algorithms will be used for implementing the operations. \n",
    "It is called “abstract” because it gives an implementation-independent view.\n",
    "ow we’ll define three ADTs namely List ADT, Stack ADT, Queue ADT.\n",
    "'''\n",
    "'''\n",
    "1. List ADT\n",
    "get() – Return an element from the list at any given position.\n",
    "insert() – Insert an element at any position of the list.\n",
    "remove() – Remove the first occurrence of any element from a non-empty list.\n",
    "removeAt() – Remove the element at a specified location from a non-empty list.\n",
    "replace() – Replace an element at any position by another element.\n",
    "size() – Return the number of elements in the list.\n",
    "isEmpty() – Return true if the list is empty, otherwise return false.\n",
    "isFull() – Return true if the list is full, otherwise return false.\n",
    "\n",
    "2. Stack ADT\n",
    "In Stack ADT Implementation instead of data being stored in each node, the pointer to data is stored.\n",
    "The program allocates memory for the data and address is passed to the stack ADT.\n",
    "The head node and the data nodes are encapsulated in the ADT. The calling function can only see the pointer to the stack.\n",
    "The stack head structure also contains a pointer to top and count of number of entries currently in stack.\n",
    "push() – Insert an element at one end of the stack called top.\n",
    "pop() – Remove and return the element at the top of the stack, if it is not empty.\n",
    "peek() – Return the element at the top of the stack without removing it, if the stack is not empty.\n",
    "size() – Return the number of elements in the stack.\n",
    "isEmpty() – Return true if the stack is empty, otherwise return false.\n",
    "isFull() – Return true if the stack is full, otherwise return false.\n",
    "\n",
    "3. Queue ADT\n",
    "The queue abstract data type (ADT) follows the basic design of the stack abstract data type.\n",
    "Each node contains a void pointer to the data and the link pointer to the next element in the queue. The program’s responsibility is to allocate memory for storing the data.\n",
    "enqueue() – Insert an element at the end of the queue.\n",
    "dequeue() – Remove and return the first element of the queue, if the queue is not empty.\n",
    "peek() – Return the element of the queue without removing it, if the queue is not empty.\n",
    "size() – Return the number of elements in the queue.\n",
    "isEmpty() – Return true if the queue is empty, otherwise return false.\n",
    "isFull() – Return true if the queue is full, otherwise return false.\n",
    "\n",
    "Abstract data types (ADTs) are a way of encapsulating data and operations on that data into a single unit. Some of the key features of ADTs include:\n",
    "\n",
    "Abstraction: The user does not need to know the implementation of the data structure only essentials are provided.\n",
    "Better Conceptualization: ADT gives us a better conceptualization of the real world.\n",
    "Robust: The program is robust and has the ability to catch errors.\n",
    "Encapsulation: ADTs hide the internal details of the data and provide a public interface for users to interact with the data. This allows for easier maintenance and modification of the data structure.\n",
    "Data Abstraction: ADTs provide a level of abstraction from the implementation details of the data. Users only need to know the operations that can be performed on the data, not how those operations are implemented.\n",
    "Data Structure Independence: ADTs can be implemented using different data structures, such as arrays or linked lists, without affecting the functionality of the ADT.\n",
    "Information Hiding: ADTs can protect the integrity of the data by allowing access only to authorized users and operations. This helps prevent errors and misuse of the data.\n",
    "Modularity: ADTs can be combined with other ADTs to form larger, more complex data structures. This allows for greater flexibility and modularity in programming.\n",
    "''''"
   ]
  },
  {
   "cell_type": "code",
   "execution_count": 28,
   "id": "679ab457-ecc2-4384-bd94-8c5b2a05badc",
   "metadata": {},
   "outputs": [
    {
     "name": "stdout",
     "output_type": "stream",
     "text": [
      "This is CPU power on\n",
      "This is CPU power off\n"
     ]
    }
   ],
   "source": [
    "# 16. Create a Python class for a computer system, demonstrating abstraction by defining common methods \n",
    "# (e.g., `power_on()`, `shutdown()`) in an abstract base class.\n",
    "from abc import ABC,abstractmethod\n",
    "class Computersystem:\n",
    "    @abstractmethod\n",
    "    def power_on(self):\n",
    "        pass\n",
    "    \n",
    "    @abstractmethod\n",
    "    def shutdown(self):\n",
    "        pass\n",
    "    \n",
    "\n",
    "class CPU(Computersystem):\n",
    "    def power_on(self):\n",
    "        print(\"This is CPU power on\")\n",
    "        \n",
    "    def shutdown(self):\n",
    "        print(\"This is CPU power off\")\n",
    "\n",
    "        \n",
    "cpu = CPU()\n",
    "cpu.power_on()\n",
    "cpu.shutdown()"
   ]
  },
  {
   "cell_type": "code",
   "execution_count": null,
   "id": "871fb83e-d323-4348-9567-33d5da37589d",
   "metadata": {},
   "outputs": [],
   "source": [
    "# 17. Discuss the benefits of using abstraction in large-scale software development projects.\n",
    "'''\n",
    "There are a few recommended practices that can help optimize the advantages of abstraction in object-oriented programming (OOP) and raise the overall caliber of the code.\n",
    "\n",
    "The main guidelines for employing abstraction are as follows:\n",
    "\n",
    "1. Use abstraction to hide implementation details: One of abstraction's main goals is to conceal how classes, methods, or data structures are actually implemented internally. You give the consumers of your code a streamlined and high-level view by encapsulating the complexity into abstract classes, interfaces, or abstract functions. This division of duties enhances the organization, security, and maintainability of the code.\n",
    "\n",
    "2. Use Abstraction to improve readability and maintainability of code: Use abstraction to develop clear, succinct interfaces that concentrate on crucial behaviors and functionalities. Abstraction enables you to design code that is easier to read and maintain. The code is made easier to read and understand by abstracting away pointless details. A further benefit of abstraction is that it encourages modular architecture, which makes it simpler to update and maintain code over time. A well-designed abstraction should be simple to understand and maintain, improving the codebase's overall readability and maintainability.\n",
    "\n",
    "3. Use abstraction to make code less difficult: By offering high-level interfaces and obscuring sophisticated implementation details, abstraction makes code usage simpler. Abstraction lessens the cognitive load on users and makes the code more manageable by concentrating on the fundamental traits and behaviors. It prevents developers from being overburdened with needless complexity and enables them to think more abstractly. As a result, the code is simpler, less prone to errors, and simpler to understand and maintain.\n",
    "\n",
    "4. Use abstraction to encourage code reuse: Abstraction encourages code reuse by establishing generic interfaces or abstract classes that can be used by various classes to extend or implement them. You can reduce waste and increase efficiency by encapsulating common behaviors or attributes in abstract classes or interfaces. Instead of starting from scratch every time, reuse existing abstractions to speed up development, assure consistency throughout the codebase, and prevent inconsistencies.\n",
    "\n",
    "5. Use abstraction to make code more adaptable and flexible: Abstraction makes code more adaptable and flexible. You can improve or modify the internal details without impacting the external code that depends on them by separating the abstraction from its implementation. This adaptability makes it simpler to include new features, technological advancements, or requirement adjustments. A stable contract or interface provided by well-designed abstractions protects users from underlying changes, making the code more durable and adaptable\n",
    "'''"
   ]
  },
  {
   "cell_type": "code",
   "execution_count": null,
   "id": "b4dcc7c3-009e-4a82-805f-2bf4a2dc643a",
   "metadata": {},
   "outputs": [],
   "source": [
    "# 18. Explain how abstraction enhances code reusability and modularity in Python program\n",
    "'''\n",
    "Abstraction is a key concept in Object-Oriented Programming (OOP) that includes hiding extraneous information and reflecting only the essential characteristics of an object or system. This method has a number of advantages that improve the overall efficacy and efficiency of software development. The advantages of abstraction in OOP are detailed below:\n",
    "\n",
    "1. Better readability and maintainability of code: By obscuring complicated implementation details, abstraction helps to make code simpler. The code becomes simpler to comprehend and work with by exposing only the fundamental properties and behaviors of an object or system. By making the code more readable, it becomes easier to maintain over time. Instead of getting bogged down in the intricate implementation details, developers may concentrate on the higher-level design and functionality.\n",
    "\n",
    "2. Less difficult code thanks to abstraction: Instead of having to deal with low-level implementation details, abstraction enables developers to work with higher-level concepts and entities. As a result, the codebase is less complex and easier to manage. Developers may concentrate on the essential functionality and design by abstracting away superfluous complexity, which results in cleaner, more manageable code. The total development process is enhanced and the likelihood of mistakes and faults is decreased thanks to this simplification.\n",
    "\n",
    "3. Better code reuse: Abstraction encourages the development of classes or components that can be used repeatedly. Developers can lay the groundwork for the construction of various objects or systems by establishing abstract classes or interfaces that offer a common set of behaviors. Multiple classes can extend or implement these abstract entities, allowing for code reuse and fostering a modular and scalable architecture. This not only speeds up development but also ensures consistency and lessens codebase redundancy.\n",
    "\n",
    "4. More adaptable code: The design and implementation of code are made more adaptable through abstraction. Changes to the underlying code can be done without having an impact on the higher-level code that depends on it by abstracting away particular implementation details. By encouraging loose coupling between components, the codebase is made more flexible and changeable in the future. Additionally, it makes maintenance and updates simpler because changes can be made locally on the appropriate abstract entities without affecting the entire codebase.\n",
    "'''"
   ]
  },
  {
   "cell_type": "code",
   "execution_count": 30,
   "id": "27bf87c5-7d96-4d9a-a126-5171fc9f611e",
   "metadata": {},
   "outputs": [
    {
     "name": "stdout",
     "output_type": "stream",
     "text": [
      "\n",
      "    1.Display Book\n",
      "    2.Borrow Book\n",
      "    3.Return Book\n",
      "\n"
     ]
    },
    {
     "name": "stdin",
     "output_type": "stream",
     "text": [
      "Enter Your Choice :  5\n"
     ]
    },
    {
     "name": "stdout",
     "output_type": "stream",
     "text": [
      "Thank You come again\n"
     ]
    }
   ],
   "source": [
    "# 19. Create a Python class for a library system, implementing abstraction by defining common methods (e.g., `add_book()`, `borrow_book()`) in an abstract base class.\n",
    "\n",
    "class Library:\n",
    "    def __init__(self,books):\n",
    "        self.books = books\n",
    "        \n",
    "    def display_books(self):\n",
    "        print(\"Available Books\")\n",
    "        for book in self.books:\n",
    "            print(book)\n",
    "            \n",
    "    def borrow_books(self,borrow_book):\n",
    "        if borrow_book in self.books:\n",
    "            self.books.remove(borrow_book)\n",
    "            print(\"Get your book now\",borrow_book)\n",
    "                \n",
    "        else:\n",
    "            print(\"Book not availabel\")\n",
    "            \n",
    "    def return_books(self,return_book):\n",
    "        print(\"You have returnred the book\")\n",
    "        self.books.append(return_book)\n",
    "        print(self.books)\n",
    "\n",
    "books = [\"c++\",\"java\",\"DSA\"]\n",
    "lib = Library(books)  \n",
    "msg = \"\"\"\n",
    "    1.Display Book\n",
    "    2.Borrow Book\n",
    "    3.Return Book\n",
    "\"\"\"\n",
    "while(True):\n",
    "    print(msg)\n",
    "    ch = int(input(\"Enter Your Choice : \"))\n",
    "    if ch == 1:\n",
    "        lib.display_books()\n",
    "        \n",
    "    elif ch == 2:\n",
    "        book = input(\"Enter Book Name To Borrow : \")\n",
    "        lib.borrow_books(book.lower())\n",
    "        \n",
    "    elif ch == 3:\n",
    "        book = input(\"Enter Book Name To Return : \")\n",
    "        lib.return_books(book)\n",
    "        \n",
    "    else:\n",
    "        print(\"Thank You come again\")\n",
    "        break"
   ]
  },
  {
   "cell_type": "code",
   "execution_count": 1,
   "id": "6dea5d95-04f0-4def-a9cd-6ddd3e8bf5a7",
   "metadata": {},
   "outputs": [
    {
     "data": {
      "text/plain": [
       "\"\\nIn object-oriented programming (OOP), a term called Method abstraction refers to hiding the internal implementation details of a method or function and only exposing the user to the information that is absolutely necessary. It enables people to apply the approach without having to comprehend its subtleties or underlying logic. Method abstraction's major objective is to present a high-level, simplified representation of the method to make it simpler to use and comprehend.\\n\\nLet's look at a sample of Method abstraction\\nMethod abstraction advantages:\\n\\n1. Simplified Usage: By offering a clear and simple interface, method abstraction makes it easier to use complex functions. Without needing to comprehend the underlying methods, users can interact with the method using a small number of parameters and get the required output.\\n\\n2. Encapsulation: By obscuring the implementation specifics, method abstraction encourages encapsulation. As long as the fundamental interface stays constant, you can change or improve a method's internal logic without having an impact on the code that utilizes it.\\n\\n3. Code Reusability: Code reusability is made possible by method abstraction. A method abstraction can be used in several contexts without modification once it has been defined. This encourages the efficient and modular creation of code.\\n\\n4. Polymorphism: Polymorphism, which enables the interchangeability of objects of various classes based on a common interface, is made possible by method abstraction. This offers design and implementation flexibility and extension for complicated systems.\\n\\n5. Maintenance and Debugging: Code maintenance and debugging are made simpler by method abstraction. The method implementation can be changed internally or fixed without having an impact on outward usage. Finding and fixing problems is much easier as a result.\\n\""
      ]
     },
     "execution_count": 1,
     "metadata": {},
     "output_type": "execute_result"
    }
   ],
   "source": [
    "# 20. Describe the concept of method abstraction in Python and how it relates to polymorphism.\n",
    "'''\n",
    "In object-oriented programming (OOP), a term called Method abstraction refers to hiding the internal implementation details of a method or function and only exposing the user to the information that is absolutely necessary. It enables people to apply the approach without having to comprehend its subtleties or underlying logic. Method abstraction's major objective is to present a high-level, simplified representation of the method to make it simpler to use and comprehend.\n",
    "\n",
    "Let's look at a sample of Method abstraction\n",
    "Method abstraction advantages:\n",
    "\n",
    "1. Simplified Usage: By offering a clear and simple interface, method abstraction makes it easier to use complex functions. Without needing to comprehend the underlying methods, users can interact with the method using a small number of parameters and get the required output.\n",
    "\n",
    "2. Encapsulation: By obscuring the implementation specifics, method abstraction encourages encapsulation. As long as the fundamental interface stays constant, you can change or improve a method's internal logic without having an impact on the code that utilizes it.\n",
    "\n",
    "3. Code Reusability: Code reusability is made possible by method abstraction. A method abstraction can be used in several contexts without modification once it has been defined. This encourages the efficient and modular creation of code.\n",
    "\n",
    "4. Polymorphism: Polymorphism, which enables the interchangeability of objects of various classes based on a common interface, is made possible by method abstraction. This offers design and implementation flexibility and extension for complicated systems.\n",
    "\n",
    "5. Maintenance and Debugging: Code maintenance and debugging are made simpler by method abstraction. The method implementation can be changed internally or fixed without having an impact on outward usage. Finding and fixing problems is much easier as a result.\n",
    "'''"
   ]
  },
  {
   "cell_type": "code",
   "execution_count": 37,
   "id": "d416bbb0-f17c-4f1b-82e7-ee772393b607",
   "metadata": {},
   "outputs": [
    {
     "name": "stdout",
     "output_type": "stream",
     "text": [
      "Component class object created...\n",
      "Composite class object also created...\n",
      "Composite class m2() method executed...\n",
      "Component class m1() method created\n"
     ]
    },
    {
     "data": {
      "text/plain": [
       "'\\nInheritance is used where a class wants to derive the nature of parent class and then modify or extend the functionality of it. \\nInheritance will extend the functionality with extra features allows overriding of methods, \\nbut in the case of Composition, we can only use that class we can not modify or extend the functionality of it. \\nIt will not provide extra features. Thus, when one needs to use the class as it without any modification, \\nthe composition is recommended and when one needs to change the behavior of the method in another class, then inheritance is recommended.\\n'"
      ]
     },
     "execution_count": 37,
     "metadata": {},
     "output_type": "execute_result"
    }
   ],
   "source": [
    "# Composition\n",
    "'''\n",
    "In this concept, we will describe a class that references to one or more objects of other classes as an Instance variable. \n",
    "Here, by using the class name or by creating the object we can access the members of one class inside another class. \n",
    "It enables creating complex types by combining objects of different classes. It means that a class Composite can contain an object of another class Component.\n",
    "This type of relationship is known as Has-A Relation.\n",
    "'''\n",
    "class component:\n",
    "    def __init__(self):\n",
    "        print('Component class object created...')\n",
    "        \n",
    "    def m1(self):\n",
    "        print(\"Component class m1() method created\")\n",
    "              \n",
    "class composite:\n",
    "    def __init__(self):\n",
    "        self.obj1 = component()\n",
    "        print('Composite class object also created...') \n",
    "    \n",
    "    def m2(self):\n",
    "        print('Composite class m2() method executed...') \n",
    "        self.obj1.m1()\n",
    "obj2 = composite()\n",
    "obj2.m2()           \n",
    "'''\n",
    "Inheritance is used where a class wants to derive the nature of parent class and then modify or extend the functionality of it. \n",
    "Inheritance will extend the functionality with extra features allows overriding of methods, \n",
    "but in the case of Composition, we can only use that class we can not modify or extend the functionality of it. \n",
    "It will not provide extra features. Thus, when one needs to use the class as it without any modification, \n",
    "the composition is recommended and when one needs to change the behavior of the method in another class, then inheritance is recommended.\n",
    "'''"
   ]
  },
  {
   "cell_type": "code",
   "execution_count": null,
   "id": "d6186468-91df-418f-9785-8795e1a71201",
   "metadata": {},
   "outputs": [],
   "source": [
    "# 2. Describe the difference between composition and inheritance in object-oriented programming.\n",
    "'''\n",
    "1.a Composition is a has-a relationship\t\n",
    "1.b Inheritance represents  the is-a relationship\n",
    "2.a Composition does not create a hierarchy of classes\t\n",
    "2.b Inheritance It creates a hierarchy of class\n",
    "3.a Composition does not allow direct access to the members of the composed objects\t\n",
    "3.b In inheritance, A child class can access all public and protected members of the parent class\n",
    "4.a The composition can be more flexible and allows objects to be reused in different contexts\t\n",
    "4.b Inheritance creates a tight coupling between the parent and child classes\n",
    "5.a Changes to the composed objects do not affect other composed objects\t\n",
    "5.b Changes to the parent class can affect all child classes\n",
    "6.a Composition allows code reuse even from final classes.\t\n",
    "6.b Inheritance cannot extend the final class"
   ]
  },
  {
   "cell_type": "code",
   "execution_count": 39,
   "id": "1bfee1c0-b7f8-421d-8801-7ac5a744e6ed",
   "metadata": {},
   "outputs": [
    {
     "name": "stdout",
     "output_type": "stream",
     "text": [
      "Chetan 123\n"
     ]
    }
   ],
   "source": [
    "# 3. Create a Python class called `Author` with attributes for name and birthdate. Then, create a `Book` class\n",
    "# that contains an instance of `Author` as a composition. Provide an example of creating a `Book` object.\n",
    "class Author:\n",
    "    def __init__(self):\n",
    "        self.name = \"Chetan\"\n",
    "        self.birthdate = 123\n",
    "        \n",
    "class Book:\n",
    "    def __init__(self):\n",
    "        self.obj1 = Author()\n",
    "    def m2(self):\n",
    "        print(self.obj1.name,self.obj1.birthdate)\n",
    "obj2 = Book()\n",
    "obj2.m2()  "
   ]
  },
  {
   "cell_type": "code",
   "execution_count": null,
   "id": "9412251c-77de-466c-9ed8-8bf1a1849096",
   "metadata": {},
   "outputs": [],
   "source": [
    "# 4. Discuss the benefits of using composition over inheritance in Python, especially in terms of code flexibility\n",
    "# and reusability.\n",
    "'''\n",
    "Composition enables you to reuse code by adding objects to other objects, as opposed to inheriting the interface and \n",
    "implementation of other classes\n",
    "'''"
   ]
  },
  {
   "cell_type": "code",
   "execution_count": 60,
   "id": "c38f85d0-c927-4fe0-8870-e682ffa8b4d2",
   "metadata": {},
   "outputs": [
    {
     "name": "stdout",
     "output_type": "stream",
     "text": [
      "Chetan   34\n",
      "Hebbal 34567\n"
     ]
    }
   ],
   "source": [
    "# 5. How can you implement composition in Python classes? Provide examples of using composition to create\n",
    "# complex objects.\n",
    "class Employee:\n",
    "    def __init__(self,name,age):\n",
    "        self.name = name\n",
    "        self.age = age\n",
    "    def emp_data(self):\n",
    "        print(self.name,\" \",self.age)\n",
    "        \n",
    "class Data:\n",
    "    def __init__(self,address, salary, obj2):\n",
    "        self.address = address\n",
    "        self.salary = salary\n",
    "        self.obj = obj2\n",
    "        \n",
    "    def display(self):\n",
    "        self.obj.emp_data()\n",
    "        print(self.address,self.salary)\n",
    "        \n",
    "emp = Employee(\"Chetan\",34)\n",
    "data = Data(\"Hebbal\",34567,emp)\n",
    "data.display()"
   ]
  },
  {
   "cell_type": "code",
   "execution_count": 62,
   "id": "24455df4-9de6-48d1-a75a-3ca4d062cb38",
   "metadata": {},
   "outputs": [
    {
     "name": "stdout",
     "output_type": "stream",
     "text": [
      "ABC XYS\n"
     ]
    }
   ],
   "source": [
    "# 6. Create a Python class hierarchy for a music player system, using composition to represent playlists and songs.\n",
    "class Music_player:\n",
    "    \n",
    "    def __init__(self,playlist,songs):\n",
    "        self.playlist = playlist\n",
    "        self.songs = songs\n",
    "        \n",
    "class details:\n",
    "    def __init__(self):\n",
    "        self.obj1 = Music_player(\"ABC\",\"XYS\")\n",
    "        \n",
    "    def print_songs(self):\n",
    "        print(self.obj1.playlist,self.obj1.songs)\n",
    "details1 = details()\n",
    "details1.print_songs()"
   ]
  },
  {
   "cell_type": "code",
   "execution_count": null,
   "id": "783629de-f0c3-4a5e-8065-4fe0adc51567",
   "metadata": {},
   "outputs": [],
   "source": [
    "# 7. Explain the concept of \"has-a\" relationships in composition and how it helps design software systems\n",
    "'''\n",
    "In this concept, we will describe a class that references to one or more objects of other classes as an Instance variable. \n",
    "Here, by using the class name or by creating the object we can access the members of one class inside another class. \n",
    "It enables creating complex types by combining objects of different classes. It means that a class Composite can contain an object of another class Component.\n",
    "This type of relationship is known as Has-A Relation.\n",
    "'''"
   ]
  },
  {
   "cell_type": "code",
   "execution_count": 70,
   "id": "d5ba6514-9922-411c-a65a-0da6d644799d",
   "metadata": {},
   "outputs": [
    {
     "name": "stdout",
     "output_type": "stream",
     "text": [
      "INtel -> 100GB -> SAMSUNG\n"
     ]
    }
   ],
   "source": [
    "# 8. Create a Python class for a computer system, using composition to represent components like CPU, RAM,\n",
    "# and storage devices.\n",
    "class components:\n",
    "    def __init__(self,CPU,RAM,Storage_devices):\n",
    "        self.CPU = CPU\n",
    "        self.RAM = RAM\n",
    "        self.storage_devices = Storage_devices\n",
    "        \n",
    "class Computer_system:\n",
    "    def __init__(self):\n",
    "        self.obj1 = components(\"INtel\",\"100GB\",\"SAMSUNG\")\n",
    "        \n",
    "    def assemble(self):\n",
    "        print(self.obj1.CPU, \"->\",self.obj1.RAM,\"->\",self.obj1.storage_devices)\n",
    "com = Computer_system()\n",
    "com.assemble()"
   ]
  },
  {
   "cell_type": "code",
   "execution_count": 89,
   "id": "405e562b-3380-41cc-8cf3-af63f0f81958",
   "metadata": {},
   "outputs": [],
   "source": [
    "# 9 Describe the concept of \"delegation\" in composition and how it simplifies the design of complex systems.\n"
   ]
  },
  {
   "cell_type": "code",
   "execution_count": 96,
   "id": "da6ad8d2-ebbf-4de7-90ea-1e447f648377",
   "metadata": {},
   "outputs": [
    {
     "name": "stdout",
     "output_type": "stream",
     "text": [
      "FOrd -> MRF -> 500\n"
     ]
    }
   ],
   "source": [
    "# 10. Create a Python class for a car, using composition to represent components like the engine, wheels, and\n",
    "# transmission.\n",
    "class components:\n",
    "    def __init__(self,engine,wheels):\n",
    "        self.engine = engine\n",
    "        self.wheels = wheels\n",
    "        \n",
    "class Computer_system:\n",
    "    def __init__(self,transmission,obj1):\n",
    "        self.obj1 = obj1\n",
    "        self.transmission = transmission\n",
    "        \n",
    "    def assemble(self):\n",
    "        print(self.obj1.engine, \"->\",self.obj1.wheels,\"->\",self.transmission)\n",
    "\n",
    "comp1 = components(\"FOrd\",\"MRF\")      \n",
    "com = Computer_system(500,comp1)\n",
    "com.assemble()"
   ]
  },
  {
   "cell_type": "code",
   "execution_count": 140,
   "id": "7ea5944d-91fa-4e37-9646-0ae0ba0daec6",
   "metadata": {},
   "outputs": [],
   "source": [
    "#11. How can you encapsulate and hide the details of composed objects in Python classes to maintain abstraction?\n",
    "\n",
    "class components:\n",
    "    def __init__(self,filename):\n",
    "        self.filename = filename\n",
    "        \n",
    "class read_write:\n",
    "    def __init__(self):\n",
    "        self.obj1 = components('test.txt')\n",
    "        \n",
    "    def read_file(self):\n",
    "        with open(self.obj1.filename,'r') as f:\n",
    "            return f.read()\n",
    "        \n",
    "    def write_file(self,data):\n",
    "        with open(self.obj1.filename,'w') as f:\n",
    "            f.write(data)\n",
    "            \n",
    "rd = read_write()\n",
    "rd.read_file()\n",
    "rd.write_file(\"Hello\")"
   ]
  },
  {
   "cell_type": "code",
   "execution_count": 143,
   "id": "534efe57-fae9-4b79-a4e4-cf263f237f8a",
   "metadata": {},
   "outputs": [
    {
     "name": "stdout",
     "output_type": "stream",
     "text": [
      "Chetan -> Sudh -> DSA\n"
     ]
    }
   ],
   "source": [
    "# 12. Create a Python class for a university course, using composition to represent students, instructors, and\n",
    "# course materials.\n",
    "class components:\n",
    "    def __init__(self,students,instructors,materials):\n",
    "        self.students = students\n",
    "        self.instructors = instructors\n",
    "        self.materials = materials\n",
    "        \n",
    "class composition:\n",
    "    def __init__(self,obj2):\n",
    "        self.obj1 = obj2\n",
    "    \n",
    "    def print_details(self):\n",
    "        print(self.obj1.students, \"->\",self.obj1.instructors,\"->\",self.obj1.materials)\n",
    "\n",
    "obj3 = components(\"Chetan\",\"Sudh\",\"DSA\")\n",
    "com = composition(obj3)\n",
    "com.print_details()"
   ]
  },
  {
   "cell_type": "code",
   "execution_count": null,
   "id": "c69ac8ee-8382-4055-996b-cc5c951eefa9",
   "metadata": {},
   "outputs": [],
   "source": [
    "# 13. Discuss the challenges and drawbacks of composition, such as increased complexity and potential for\n",
    "# tight coupling between objects.\n",
    "'''\n",
    "In the case of Composition, the objects were interdependent on each other, but in Aggregation, they are Unidirectional means that as salary is a completely independent object we can only pass salary to the emp, not vice versa.\n",
    "Composition is defined by the PART-OF relationship which means that one object IS PART-OF ANOTHER OBJECT, but Aggregation is defined by the HAS-A relationship which means that one object HAS-A RELATION with another object.\n",
    "'''"
   ]
  },
  {
   "cell_type": "code",
   "execution_count": 155,
   "id": "d5611573-083a-4cc5-be1b-7cce9b2e72b7",
   "metadata": {},
   "outputs": [
    {
     "name": "stdout",
     "output_type": "stream",
     "text": [
      "Chinese Masala xys\n"
     ]
    }
   ],
   "source": [
    "# 14. Create a Python class hierarchy for a restaurant system, using composition to represent menus, dishes,\n",
    "# and ingredients\n",
    "class components:\n",
    "    def __init__(self,menus):\n",
    "        self.menus = menus\n",
    "        \n",
    "class Composite:\n",
    "    def __init__(self,menus_name,ingredients,dishes):\n",
    "        self.menus_name = menus_name\n",
    "        self.ingredients = ingredients\n",
    "        self.dishes = dishes\n",
    "        \n",
    "comp = components(\"Chinese\")\n",
    "composite = Composite(comp,\"Masala\",\"xys\")\n",
    "print(composite.menus_name.menus, composite.ingredients,composite.dishes)"
   ]
  },
  {
   "cell_type": "code",
   "execution_count": null,
   "id": "cd02a2fd-cb4f-469b-b56a-02e9653f6d18",
   "metadata": {},
   "outputs": [],
   "source": [
    "# 15. Explain how composition enhances code maintainability and modularity in Python programs.\n",
    "'''\n",
    "Code Reusability\n",
    "Inheritance: Ideal when there is a clear hierarchical relationship, and the derived class shares a significant portion of the functionality of the base class.\n",
    "Composition: More flexible for scenarios where code reuse is achieved by combining different components, rather than inheriting from a common ancestor.\n",
    "Flexibility and Maintenance\n",
    "Inheritance: Changes in the base class may impact derived classes, potentially leading to a cascade of modifications.\n",
    "Composition: Components can be modified or replaced independently, promoting a more modular and maintainable design.\n",
    "Complexity and Structure\n",
    "Inheritance: Provides a clear structure but may lead to a rigid hierarchy, making it challenging to adapt to changing requirements.\n",
    "Composition: Offers a more dynamic structure, allowing for greater adaptability and ease of modification.\n",
    "Design Goals\n",
    "Inheritance: Suited for scenarios where a clear hierarchy and code sharing are essential.\n",
    "Composition: Beneficial when flexibility, maintainability, and the ability to adapt to changes are top priorities.\n",
    "'''"
   ]
  },
  {
   "cell_type": "code",
   "execution_count": 156,
   "id": "6b44b15b-88bd-4701-a789-d681a436948e",
   "metadata": {},
   "outputs": [
    {
     "name": "stdout",
     "output_type": "stream",
     "text": [
      "XYZ -> ABC -> 123\n"
     ]
    }
   ],
   "source": [
    "# 16. Create a Python class for a computer game character, using composition to represent attributes like\n",
    "# weapons, armor, and inventory.\n",
    "class components:\n",
    "    def __init__(self,weapons,armor,inventory):\n",
    "        self.weapons = weapons\n",
    "        self.armor = armor\n",
    "        self.inventory = inventory\n",
    "        \n",
    "class composition:\n",
    "    def __init__(self,obj2):\n",
    "        self.obj1 = obj2\n",
    "    \n",
    "    def print_details(self):\n",
    "        print(self.obj1.weapons, \"->\",self.obj1.armor,\"->\",self.obj1.inventory)\n",
    "\n",
    "obj3 = components(\"XYZ\",\"ABC\",\"123\")\n",
    "com = composition(obj3)\n",
    "com.print_details()"
   ]
  },
  {
   "cell_type": "code",
   "execution_count": null,
   "id": "4bf943bd-4f7f-4026-afd6-8cfac705a22d",
   "metadata": {},
   "outputs": [],
   "source": [
    "# 17. Describe the concept of \"aggregation\" in composition and how it differs from simple composition.\n",
    "'''\n",
    "Aggregation is a concept in which an object of one class can own or access another independent object of another class. \n",
    "\n",
    "It represents Has-A’s relationship.\n",
    "It is a unidirectional association i.e. a one-way relationship. For example, a department can have students but vice versa is not possible and thus unidirectional in nature.\n",
    "In Aggregation, both the entries can survive individually which means ending one entity will not affect the other entity.\n",
    "'''\n",
    "'''\n",
    "Composition is a type of Aggregation in which two entities are extremely reliant on one another.\n",
    "It indicates a relationship component.\n",
    "Both entities are dependent on each other in composition.\n",
    "The composed object cannot exist without the other entity when there is a composition between two entities.\n",
    "'''"
   ]
  },
  {
   "cell_type": "code",
   "execution_count": 158,
   "id": "e473bf9b-c6da-4a5e-91bd-74df0bfde69d",
   "metadata": {},
   "outputs": [
    {
     "name": "stdout",
     "output_type": "stream",
     "text": [
      "123 -> XYD -> ABC\n"
     ]
    }
   ],
   "source": [
    "# 18. Create a Python class for a house, using composition to represent rooms, furniture, and appliances.\n",
    "class components:\n",
    "    def __init__(self,rooms,furniture):\n",
    "        self.rooms = rooms\n",
    "        self.furniture = furniture\n",
    "    \n",
    "class composition:\n",
    "    def __init__(self,rooms,furniture,appliance):\n",
    "        self.appliance = appliance\n",
    "        self.obj1 = components(rooms,furniture)\n",
    "    \n",
    "    def print_details(self):\n",
    "        print(self.obj1.rooms, \"->\",self.obj1.furniture,\"->\", self.appliance)\n",
    "\n",
    "\n",
    "com = composition(123,\"XYD\",\"ABC\")\n",
    "com.print_details()"
   ]
  },
  {
   "cell_type": "code",
   "execution_count": null,
   "id": "a3589557-5f0e-43c0-87ad-8b50423ca2e4",
   "metadata": {},
   "outputs": [],
   "source": [
    "# 19. How can you achieve flexibility in composed objects by allowing them to be replaced or modified\n",
    "# dynamically at runtime?\n",
    "'''\n",
    "This can be achieved using composition\""
   ]
  },
  {
   "cell_type": "code",
   "execution_count": 161,
   "id": "5a805670-ef7a-4b4e-aed5-fbe11876c665",
   "metadata": {},
   "outputs": [
    {
     "name": "stdout",
     "output_type": "stream",
     "text": [
      "Chetan -> XYD -> ABC\n"
     ]
    }
   ],
   "source": [
    "# 20. Create a Python class for a social media application, using composition to represent users, posts, and\n",
    "# comments.\n",
    "class components:\n",
    "    def __init__(self,users,post):\n",
    "        self.users = users\n",
    "        self.post = post\n",
    "    \n",
    "class composition:\n",
    "    def __init__(self,users,post,comments):\n",
    "        self.comments = comments\n",
    "        self.obj1 = components(users,post)\n",
    "    \n",
    "    def print_details(self):\n",
    "        print(self.obj1.users, \"->\",self.obj1.post,\"->\", self.comments)\n",
    "\n",
    "\n",
    "com = composition(\"Chetan\",\"XYD\",\"ABC\")\n",
    "com.print_details()"
   ]
  },
  {
   "cell_type": "code",
   "execution_count": null,
   "id": "1ca3965e-7f91-46cf-9193-5ba818c48418",
   "metadata": {},
   "outputs": [],
   "source": []
  }
 ],
 "metadata": {
  "kernelspec": {
   "display_name": "Python 3 (ipykernel)",
   "language": "python",
   "name": "python3"
  },
  "language_info": {
   "codemirror_mode": {
    "name": "ipython",
    "version": 3
   },
   "file_extension": ".py",
   "mimetype": "text/x-python",
   "name": "python",
   "nbconvert_exporter": "python",
   "pygments_lexer": "ipython3",
   "version": "3.10.8"
  }
 },
 "nbformat": 4,
 "nbformat_minor": 5
}
